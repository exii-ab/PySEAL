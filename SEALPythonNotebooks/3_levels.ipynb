{
 "cells": [
  {
   "cell_type": "code",
   "execution_count": null,
   "metadata": {},
   "outputs": [],
   "source": [
    "import time\n",
    "import random\n",
    "from seal import EncryptionParameters, scheme_type, \\\n",
    "    SEALContext, print_parameters, KeyGenerator, \\\n",
    "    Encryptor, CoeffModulus, Evaluator, Decryptor, \\\n",
    "    Plaintext, Ciphertext, IntegerEncoder, PlainModulus, \\\n",
    "    BatchEncoder, CKKSEncoder, Int64Vector, UInt64Vector, \\\n",
    "    IntVector, DoubleVector"
   ]
  },
  {
   "cell_type": "code",
   "execution_count": null,
   "metadata": {},
   "outputs": [],
   "source": [
    "def list2hex(lst):\n",
    "    return list(map(lambda x: hex(x), lst)) "
   ]
  },
  {
   "cell_type": "code",
   "execution_count": null,
   "metadata": {},
   "outputs": [],
   "source": [
    "print(\"Example: Levels\")"
   ]
  },
  {
   "cell_type": "markdown",
   "metadata": {},
   "source": [
    "In this examples we describe the concept of `levels' in BFV and CKKS and the<br>\n",
    "related objects that represent them in Microsoft SEAL.<br>\n",
    "<br>\n",
    "In Microsoft SEAL a set of encryption parameters (excluding the random number<br>\n",
    "generator) is identified uniquely by a 256-bit hash of the parameters. This<br>\n",
    "hash is called the `parms_id' and can be easily accessed and printed at any<br>\n",
    "time. The hash will change as soon as any of the parameters is changed.<br>\n",
    "<br>\n",
    "When a SEALContext is created from a given EncryptionParameters instance,<br>\n",
    "Microsoft SEAL automatically creates a so-called `modulus switching chain',<br>\n",
    "which is a chain of other encryption parameters derived from the original set.<br>\n",
    "The parameters in the modulus switching chain are the same as the original<br>\n",
    "parameters with the exception that size of the coefficient modulus is<br>\n",
    "decreasing going down the chain. More precisely, each parameter set in the<br>\n",
    "chain attempts to remove the last coefficient modulus prime from the<br>\n",
    "previous set; this continues until the parameter set is no longer valid<br>\n",
    "(e.g., plain_modulus is larger than the remaining coeff_modulus). It is easy<br>\n",
    "to walk through the chain and access all the parameter sets. Additionally,<br>\n",
    "each parameter set in the chain has a `chain index' that indicates its<br>\n",
    "position in the chain so that the last set has index 0. We say that a set<br>\n",
    "of encryption parameters, or an object carrying those encryption parameters,<br>\n",
    "is at a higher level in the chain than another set of parameters if its the<br>\n",
    "chain index is bigger, i.e., it is earlier in the chain.<br>\n",
    "<br>\n",
    "Each set of parameters in the chain involves unique pre-computations performed<br>\n",
    "when the SEALContext is created, and stored in a SEALContext::ContextData<br>\n",
    "object. The chain is basically a linked list of SEALContext::ContextData<br>\n",
    "objects, and can easily be accessed through the SEALContext at any time. Each<br>\n",
    "node can be identified by the parms_id of its specific encryption parameters<br>\n",
    "(poly_modulus_degree remains the same but coeff_modulus varies)."
   ]
  },
  {
   "cell_type": "code",
   "execution_count": null,
   "metadata": {},
   "outputs": [],
   "source": [
    "parms = EncryptionParameters(scheme_type.BFV)"
   ]
  },
  {
   "cell_type": "code",
   "execution_count": null,
   "metadata": {},
   "outputs": [],
   "source": [
    "poly_modulus_degree = 8192\n",
    "parms.set_poly_modulus_degree(poly_modulus_degree)"
   ]
  },
  {
   "cell_type": "markdown",
   "metadata": {},
   "source": [
    "In this example we use a custom coeff_modulus, consisting of 5 primes of<br>\n",
    "sizes 50, 30, 30, 50, and 50 bits. Note that this is still OK according to<br>\n",
    "the explanation in `1_bfv_basics.cpp'. Indeed,<br>\n",
    "<br>\n",
    "    CoeffModulus::MaxBitCount(poly_modulus_degree)<br>\n",
    "<br>\n",
    "returns 218 (greater than 50+30+30+50+50=210).<br>\n",
    "<br>\n",
    "Due to the modulus switching chain, the order of the 5 primes is significant.<br>\n",
    "The last prime has a special meaning and we call it the `special prime'. Thus,<br>\n",
    "the first parameter set in the modulus switching chain is the only one that<br>\n",
    "involves the special prime. All key objects, such as SecretKey, are created<br>\n",
    "at this highest level. All data objects, such as Ciphertext, can be only at<br>\n",
    "lower levels. The special prime should be as large as the largest of the<br>\n",
    "other primes in the coeff_modulus, although this is not a strict requirement.<br>\n",
    "<br>\n",
    "          special prime +---------+<br>\n",
    "                                  |<br>\n",
    "                                  v<br>\n",
    "coeff_modulus: { 50, 30, 30, 50, 50 }  +---+  Level 4 (all keys; `key level')<br>\n",
    "                                           |<br>\n",
    "                                           |<br>\n",
    "    coeff_modulus: { 50, 30, 30, 50 }  +---+  Level 3 (highest `data level')<br>\n",
    "                                           |<br>\n",
    "                                           |<br>\n",
    "        coeff_modulus: { 50, 30, 30 }  +---+  Level 2<br>\n",
    "                                           |<br>\n",
    "                                           |<br>\n",
    "            coeff_modulus: { 50, 30 }  +---+  Level 1<br>\n",
    "                                           |<br>\n",
    "                                           |<br>\n",
    "                coeff_modulus: { 50 }  +---+  Level 0 (lowest level)"
   ]
  },
  {
   "cell_type": "code",
   "execution_count": null,
   "metadata": {},
   "outputs": [],
   "source": [
    "parms.set_coeff_modulus(CoeffModulus.Create(\n",
    "        poly_modulus_degree, IntVector([50, 30, 30, 50, 50])))"
   ]
  },
  {
   "cell_type": "markdown",
   "metadata": {},
   "source": [
    "In this example the plain_modulus does not play much of a role; we choose<br>\n",
    "some reasonable value."
   ]
  },
  {
   "cell_type": "code",
   "execution_count": null,
   "metadata": {},
   "outputs": [],
   "source": [
    "parms.set_plain_modulus(PlainModulus.Batching(poly_modulus_degree, 20))"
   ]
  },
  {
   "cell_type": "code",
   "execution_count": null,
   "metadata": {},
   "outputs": [],
   "source": [
    "context = SEALContext.Create(parms)\n",
    "print_parameters(context)"
   ]
  },
  {
   "cell_type": "markdown",
   "metadata": {},
   "source": [
    "There are convenience method for accessing the SEALContext::ContextData for<br>\n",
    "some of the most important levels:<br>\n",
    "<br>\n",
    "    SEALContext::key_context_data(): access to key level ContextData<br>\n",
    "    SEALContext::first_context_data(): access to highest data level ContextData<br>\n",
    "    SEALContext::last_context_data(): access to lowest level ContextData<br>\n",
    "<br>\n",
    "We iterate over the chain and print the parms_id for each set of parameters."
   ]
  },
  {
   "cell_type": "code",
   "execution_count": null,
   "metadata": {},
   "outputs": [],
   "source": [
    "print(\"Print the modulus switching chain.\")"
   ]
  },
  {
   "cell_type": "markdown",
   "metadata": {},
   "source": [
    "First print the key level parameter information."
   ]
  },
  {
   "cell_type": "code",
   "execution_count": null,
   "metadata": {},
   "outputs": [],
   "source": [
    "context_data = context.key_context_data()\n",
    "print(\"----> Level (chain index): {} ...... key_context_data()\".format(context_data.chain_index()))\n",
    "print(\"      parms_id: {}\".format(list2hex(context_data.parms_id())))\n",
    "print(\"coeff_modulus primes:\", end=' ')\n",
    "for prime in context_data.parms().coeff_modulus():\n",
    "     print(hex(prime.value()), end=' ')\n",
    "print(\"\")\n",
    "print(\"\\\\\")\n",
    "print(\" \\\\-->\")"
   ]
  },
  {
   "cell_type": "markdown",
   "metadata": {},
   "source": [
    "Next iterate over the remaining (data) levels."
   ]
  },
  {
   "cell_type": "code",
   "execution_count": null,
   "metadata": {},
   "outputs": [],
   "source": [
    "context_data = context.first_context_data()\n",
    "while (context_data):\n",
    "    print(\" Level (chain index): {} \".format(context_data.chain_index()), end='')\n",
    "    if context_data.parms_id() == context.first_parms_id():\n",
    "        print(\" ...... first_context_data()\")\n",
    "    elif context_data.parms_id() == context.last_parms_id():\n",
    "        print(\" ...... last_context_data()\")\n",
    "    else:\n",
    "        print(\"\")\n",
    "    print(\"      parms_id: {}\".format(list2hex(context_data.parms_id())))\n",
    "    print(\"coeff_modulus primes:\", end=' ')\n",
    "    for prime in context_data.parms().coeff_modulus():\n",
    "        print(hex(prime.value()), end=' ')\n",
    "    print(\"\")\n",
    "    print(\"\\\\\")\n",
    "    print(\" \\\\-->\")\n",
    "\n",
    "    # Step forward in the chain.\n",
    "    context_data = context_data.next_context_data()"
   ]
  },
  {
   "cell_type": "code",
   "execution_count": null,
   "metadata": {},
   "outputs": [],
   "source": [
    "print(\" End of chain reached\")"
   ]
  },
  {
   "cell_type": "markdown",
   "metadata": {},
   "source": [
    "We create some keys and check that indeed they appear at the highest level."
   ]
  },
  {
   "cell_type": "code",
   "execution_count": null,
   "metadata": {},
   "outputs": [],
   "source": [
    "keygen = KeyGenerator(context)\n",
    "public_key = keygen.public_key()\n",
    "secret_key = keygen.secret_key()\n",
    "relin_keys = keygen.relin_keys()\n",
    "galois_keys = keygen.galois_keys()\n",
    "print(\"Print the parameter IDs of generated elements.\")\n",
    "print(\"    + public_key:  {}\".format(list2hex(public_key.parms_id())))\n",
    "print(\"    + secret_key:  {}\".format(list2hex(secret_key.parms_id())))\n",
    "print(\"    + relin_keys:  {}\".format(list2hex(relin_keys.parms_id())))\n",
    "print(\"    + galois_keys: {}\".format(list2hex(galois_keys.parms_id())))"
   ]
  },
  {
   "cell_type": "code",
   "execution_count": null,
   "metadata": {},
   "outputs": [],
   "source": [
    "encryptor = Encryptor(context, public_key)\n",
    "evaluator = Evaluator(context)\n",
    "decryptor = Decryptor(context, secret_key)"
   ]
  },
  {
   "cell_type": "markdown",
   "metadata": {},
   "source": [
    "In the BFV scheme plaintexts do not carry a parms_id, but ciphertexts do. Note<br>\n",
    "how the freshly encrypted ciphertext is at the highest data level."
   ]
  },
  {
   "cell_type": "code",
   "execution_count": null,
   "metadata": {},
   "outputs": [],
   "source": [
    "plain = Plaintext(\"1x^3 + 2x^2 + 3x^1 + 4\")\n",
    "encrypted = Ciphertext()  \n",
    "encryptor.encrypt(plain, encrypted);\n",
    "print(\"    + plain:       {} (not set in BFV)\".format(list2hex(plain.parms_id())))\n",
    "print(\"    + encrypted:   {}\".format(list2hex(encrypted.parms_id())))"
   ]
  },
  {
   "cell_type": "markdown",
   "metadata": {},
   "source": [
    "`Modulus switching' is a technique of changing the ciphertext parameters down<br>\n",
    "in the chain. The function Evaluator::mod_switch_to_next always switches to<br>\n",
    "the next level down the chain, whereas Evaluator::mod_switch_to switches to<br>\n",
    "a parameter set down the chain corresponding to a given parms_id. However, it<br>\n",
    "is impossible to switch up in the chain."
   ]
  },
  {
   "cell_type": "code",
   "execution_count": null,
   "metadata": {},
   "outputs": [],
   "source": [
    "print(\"Perform modulus switching on encrypted and print.\")\n",
    "context_data = context.first_context_data()\n",
    "print(\"---->\")"
   ]
  },
  {
   "cell_type": "code",
   "execution_count": null,
   "metadata": {},
   "outputs": [],
   "source": [
    "while(context_data.next_context_data()):\n",
    "    print(\" Level (chain index): {} \".format(context_data.chain_index()))\n",
    "    print(\"      parms_id of encrypted: {}\".format(list2hex(encrypted.parms_id())))\n",
    "    print(\"      Noise budget at this level: {} bits\".format(\n",
    "        decryptor.invariant_noise_budget(encrypted)))\n",
    "    print(\"\\\\\")\n",
    "    print(\" \\\\-->\")\n",
    "    evaluator.mod_switch_to_next_inplace(encrypted)\n",
    "    context_data = context_data.next_context_data()\n",
    "    \n",
    "print(\" Level (chain index): {}\".format(context_data.chain_index()))\n",
    "print(\"      parms_id of encrypted: {}\".format(encrypted.parms_id()))\n",
    "print(\"      Noise budget at this level: {} bits\".format(\n",
    "    decryptor.invariant_noise_budget(encrypted))) \n",
    "print(\"\\\\\")\n",
    "print(\" \\\\-->\")\n",
    "print(\" End of chain reached\")"
   ]
  },
  {
   "cell_type": "markdown",
   "metadata": {},
   "source": [
    "At this point it is hard to see any benefit in doing this: we lost a huge<br>\n",
    "amount of noise budget (i.e., computational power) at each switch and seemed<br>\n",
    "to get nothing in return. Decryption still works."
   ]
  },
  {
   "cell_type": "code",
   "execution_count": null,
   "metadata": {},
   "outputs": [],
   "source": [
    "print(\"Decrypt still works after modulus switching.\")\n",
    "decryptor.decrypt(encrypted, plain)\n",
    "print(\"    + Decryption of encrypted: {} ...... Correct.\".format(plain.to_string()))"
   ]
  },
  {
   "cell_type": "markdown",
   "metadata": {},
   "source": [
    "However, there is a hidden benefit: the size of the ciphertext depends<br>\n",
    "linearly on the number of primes in the coefficient modulus. Thus, if there<br>\n",
    "is no need or intention to perform any further computations on a given<br>\n",
    "ciphertext, we might as well switch it down to the smallest (last) set of<br>\n",
    "parameters in the chain before sending it back to the secret key holder for<br>\n",
    "decryption.<br>\n",
    "<br>\n",
    "Also the lost noise budget is actually not an issue at all, if we do things<br>\n",
    "right, as we will see below.<br>\n",
    "<br>\n",
    "First we recreate the original ciphertext and perform some computations."
   ]
  },
  {
   "cell_type": "code",
   "execution_count": null,
   "metadata": {},
   "outputs": [],
   "source": [
    "print(\"Computation is more efficient with modulus switching.\")\n",
    "print(\"Compute the 8th power.\")\n",
    "encryptor.encrypt(plain, encrypted)\n",
    "print(\"    + Noise budget fresh:                   {} bits\".format(\n",
    "    decryptor.invariant_noise_budget(encrypted)))\n",
    "evaluator.square_inplace(encrypted)\n",
    "evaluator.relinearize_inplace(encrypted, relin_keys)\n",
    "print(\"    + Noise budget of the 2nd power:         {} bits\".format(\n",
    "    decryptor.invariant_noise_budget(encrypted)))\n",
    "evaluator.square_inplace(encrypted)\n",
    "evaluator.relinearize_inplace(encrypted, relin_keys)\n",
    "print(\"    + Noise budget of the 4th power:         {} bits\".format(\n",
    "    decryptor.invariant_noise_budget(encrypted)))"
   ]
  },
  {
   "cell_type": "markdown",
   "metadata": {},
   "source": [
    "Surprisingly, in this case modulus switching has no effect at all on the<br>\n",
    "noise budget."
   ]
  },
  {
   "cell_type": "code",
   "execution_count": null,
   "metadata": {},
   "outputs": [],
   "source": [
    "evaluator.mod_switch_to_next_inplace(encrypted)\n",
    "print(\"    + Noise budget after modulus switching:  {} bits\".format(\n",
    "    decryptor.invariant_noise_budget(encrypted)))"
   ]
  },
  {
   "cell_type": "markdown",
   "metadata": {},
   "source": [
    "This means that there is no harm at all in dropping some of the coefficient<br>\n",
    "modulus after doing enough computations. In some cases one might want to<br>\n",
    "switch to a lower level slightly earlier, actually sacrificing some of the<br>\n",
    "noise budget in the process, to gain computational performance from having<br>\n",
    "smaller parameters. We see from the print-out that the next modulus switch<br>\n",
    "should be done ideally when the noise budget is down to around 25 bits."
   ]
  },
  {
   "cell_type": "code",
   "execution_count": null,
   "metadata": {},
   "outputs": [],
   "source": [
    "evaluator.square_inplace(encrypted)\n",
    "evaluator.relinearize_inplace(encrypted, relin_keys)\n",
    "print(\"    + Noise budget of the 8th power:         {} bits\".format(\n",
    "    decryptor.invariant_noise_budget(encrypted)))\n",
    "evaluator.mod_switch_to_next_inplace(encrypted)\n",
    "print(\"    + Noise budget after modulus switching:  {} bits\".format(\n",
    "    decryptor.invariant_noise_budget(encrypted)))"
   ]
  },
  {
   "cell_type": "markdown",
   "metadata": {},
   "source": [
    "At this point the ciphertext still decrypts correctly, has very small size,<br>\n",
    "and the computation was as efficient as possible. Note that the decryptor<br>\n",
    "can be used to decrypt a ciphertext at any level in the modulus switching<br>\n",
    "chain."
   ]
  },
  {
   "cell_type": "code",
   "execution_count": null,
   "metadata": {},
   "outputs": [],
   "source": [
    "decryptor.decrypt(encrypted, plain)\n",
    "print(\"    + Decryption of the 8th power (hexadecimal) ...... Correct.\")\n",
    "print(\"    {}\".format(plain.to_string()))"
   ]
  },
  {
   "cell_type": "markdown",
   "metadata": {},
   "source": [
    "In BFV modulus switching is not necessary and in some cases the user might<br>\n",
    "not want to create the modulus switching chain, except for the highest two<br>\n",
    "levels. This can be done by passing a bool `false' to SEALContext::Create."
   ]
  },
  {
   "cell_type": "code",
   "execution_count": null,
   "metadata": {},
   "outputs": [],
   "source": [
    "context = SEALContext.Create(parms, False)"
   ]
  },
  {
   "cell_type": "markdown",
   "metadata": {},
   "source": [
    "We can check that indeed the modulus switching chain has been created only<br>\n",
    "for the highest two levels (key level and highest data level). The following<br>\n",
    "loop should execute only once."
   ]
  },
  {
   "cell_type": "code",
   "execution_count": null,
   "metadata": {},
   "outputs": [],
   "source": [
    "print(\"Optionally disable modulus switching chain expansion.\")\n",
    "print(\"Print the modulus switching chain.\")\n",
    "print(\"---->\")"
   ]
  },
  {
   "cell_type": "code",
   "execution_count": null,
   "metadata": {},
   "outputs": [],
   "source": [
    "context_data = context.key_context_data()\n",
    "while (context_data):\n",
    "    print(\" Level (chain index): {}\".format(context_data.chain_index()))\n",
    "    print(\"      parms_id: {}\".format(list2hex(context_data.parms_id())))\n",
    "    print(\"coeff_modulus primes:\", end=' ')\n",
    "    for prime in context_data.parms().coeff_modulus():\n",
    "        print(hex(prime.value()), end=' ')\n",
    "    print(\"\")\n",
    "    print(\"\\\\\")\n",
    "        print(\" \\\\-->\")\n",
    "    context_data = context_data.next_context_data()"
   ]
  },
  {
   "cell_type": "code",
   "execution_count": null,
   "metadata": {},
   "outputs": [],
   "source": [
    "print(\" End of chain reached\")"
   ]
  },
  {
   "cell_type": "markdown",
   "metadata": {},
   "source": [
    "It is very important to understand how this example works since in the CKKS<br>\n",
    "scheme modulus switching has a much more fundamental purpose and the next<br>\n",
    "examples will be difficult to understand unless these basic properties are<br>\n",
    "totally clear."
   ]
  }
 ],
 "metadata": {
  "kernelspec": {
   "display_name": "Python 3",
   "language": "python",
   "name": "python3"
  },
  "language_info": {
   "codemirror_mode": {
    "name": "ipython",
    "version": 3
   },
   "file_extension": ".py",
   "mimetype": "text/x-python",
   "name": "python",
   "nbconvert_exporter": "python",
   "pygments_lexer": "ipython3",
   "version": "3.7.5"
  }
 },
 "nbformat": 4,
 "nbformat_minor": 2
}
