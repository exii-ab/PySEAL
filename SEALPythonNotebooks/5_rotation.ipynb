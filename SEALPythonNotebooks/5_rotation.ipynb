{
 "cells": [
  {
   "cell_type": "code",
   "execution_count": null,
   "metadata": {},
   "outputs": [],
   "source": [
    "import time\n",
    "import random\n",
    "from seal import EncryptionParameters, scheme_type, \\\n",
    "    SEALContext, print_parameters, KeyGenerator, \\\n",
    "    Encryptor, CoeffModulus, Evaluator, Decryptor, \\\n",
    "    Plaintext, Ciphertext, IntegerEncoder, PlainModulus, \\\n",
    "    BatchEncoder, CKKSEncoder, Int64Vector, UInt64Vector, \\\n",
    "    IntVector, DoubleVector\n",
    "from numpy import log2"
   ]
  },
  {
   "cell_type": "code",
   "execution_count": null,
   "metadata": {},
   "outputs": [],
   "source": [
    "def print_matrix(A, n):\n",
    "    nrows = int(len(A)/n)\n",
    "    for i in range(nrows):\n",
    "        print(\"[\", \", \".join([\"{:.2f}\".format(x) for x in A[n*i:(n*i+4)]]), \", ... ,\",\n",
    "              \", \".join([\"{:.2f}\".format(x) for x in A[(n*(i+1)-5):(n*(i+1))]]), \"]\")"
   ]
  },
  {
   "cell_type": "code",
   "execution_count": null,
   "metadata": {},
   "outputs": [],
   "source": [
    "def print_vector(v):\n",
    "    n = len(v)\n",
    "    print(\"[\", \", \".join([\"{:.2f}\".format(x) for x in v[0:4]]), \", ..., \",\n",
    "          \", \".join([\"{:.2f}\".format(x) for x in v[(n-5):n]]))"
   ]
  },
  {
   "cell_type": "code",
   "execution_count": null,
   "metadata": {},
   "outputs": [],
   "source": [
    "print(\"Example: Rotation / Rotation in BFV\")"
   ]
  },
  {
   "cell_type": "code",
   "execution_count": null,
   "metadata": {},
   "outputs": [],
   "source": [
    "parms = EncryptionParameters(scheme_type.BFV)"
   ]
  },
  {
   "cell_type": "code",
   "execution_count": null,
   "metadata": {},
   "outputs": [],
   "source": [
    "poly_modulus_degree = 8192\n",
    "parms.set_poly_modulus_degree(poly_modulus_degree)\n",
    "parms.set_coeff_modulus(CoeffModulus.BFVDefault(poly_modulus_degree))\n",
    "parms.set_plain_modulus(PlainModulus.Batching(poly_modulus_degree, 20))"
   ]
  },
  {
   "cell_type": "code",
   "execution_count": null,
   "metadata": {},
   "outputs": [],
   "source": [
    "context = SEALContext.Create(parms)\n",
    "print_parameters(context)"
   ]
  },
  {
   "cell_type": "code",
   "execution_count": null,
   "metadata": {},
   "outputs": [],
   "source": [
    "keygen = KeyGenerator(context)\n",
    "public_key = keygen.public_key()\n",
    "secret_key = keygen.secret_key()\n",
    "relin_keys = keygen.relin_keys()\n",
    "encryptor = Encryptor(context, public_key)\n",
    "evaluator = Evaluator(context)\n",
    "decryptor = Decryptor(context, secret_key)"
   ]
  },
  {
   "cell_type": "code",
   "execution_count": null,
   "metadata": {},
   "outputs": [],
   "source": [
    "batch_encoder = BatchEncoder(context)\n",
    "slot_count = batch_encoder.slot_count()\n",
    "row_size = int(slot_count / 2)\n",
    "print(\"Plaintext matrix row size: {}\".format(row_size))"
   ]
  },
  {
   "cell_type": "code",
   "execution_count": null,
   "metadata": {},
   "outputs": [],
   "source": [
    "pod_matrix = UInt64Vector([0]*slot_count)\n",
    "pod_matrix[0] = 0\n",
    "pod_matrix[1] = 1\n",
    "pod_matrix[2] = 2\n",
    "pod_matrix[3] = 3\n",
    "pod_matrix[row_size] = 4\n",
    "pod_matrix[row_size + 1] = 5\n",
    "pod_matrix[row_size + 2] = 6\n",
    "pod_matrix[row_size + 3] = 7"
   ]
  },
  {
   "cell_type": "code",
   "execution_count": null,
   "metadata": {},
   "outputs": [],
   "source": [
    "print(\"Input plaintext matrix:\")\n",
    "print_matrix(pod_matrix, row_size)"
   ]
  },
  {
   "cell_type": "markdown",
   "metadata": {},
   "source": [
    "First we use BatchEncoder to encode the matrix into a plaintext. We encrypt<br>\n",
    "the plaintext as usual."
   ]
  },
  {
   "cell_type": "code",
   "execution_count": null,
   "metadata": {},
   "outputs": [],
   "source": [
    "plain_matrix = Plaintext()  \n",
    "print(\"Encode and encrypt.\")\n",
    "batch_encoder.encode(pod_matrix, plain_matrix)\n",
    "encrypted_matrix = Ciphertext() \n",
    "encryptor.encrypt(plain_matrix, encrypted_matrix)\n",
    "print(\"    + Noise budget in fresh encryption: {} bits\".format(\n",
    "    decryptor.invariant_noise_budget(encrypted_matrix))) "
   ]
  },
  {
   "cell_type": "markdown",
   "metadata": {},
   "source": [
    "Rotations require yet another type of special key called `Galois keys'. These<br>\n",
    "are easily obtained from the KeyGenerator."
   ]
  },
  {
   "cell_type": "code",
   "execution_count": null,
   "metadata": {},
   "outputs": [],
   "source": [
    "gal_keys = keygen.galois_keys()"
   ]
  },
  {
   "cell_type": "markdown",
   "metadata": {},
   "source": [
    "Now rotate both matrix rows 3 steps to the left, decrypt, decode, and print."
   ]
  },
  {
   "cell_type": "code",
   "execution_count": null,
   "metadata": {},
   "outputs": [],
   "source": [
    "print(\"Rotate rows 3 steps left.\")\n",
    "evaluator.rotate_rows_inplace(encrypted_matrix, 3, gal_keys)\n",
    "plain_result = Plaintext()  \n",
    "print(\"    + Noise budget after rotation: {} bits\".format(\n",
    "    decryptor.invariant_noise_budget(encrypted_matrix)))\n",
    "print(\"    + Decrypt and decode ...... Correct.\")\n",
    "decryptor.decrypt(encrypted_matrix, plain_result)\n",
    "batch_encoder.decode(plain_result, pod_matrix)\n",
    "print_matrix(pod_matrix, row_size)"
   ]
  },
  {
   "cell_type": "markdown",
   "metadata": {},
   "source": [
    "We can also rotate the columns, i.e., swap the rows."
   ]
  },
  {
   "cell_type": "code",
   "execution_count": null,
   "metadata": {},
   "outputs": [],
   "source": [
    "print(\"Rotate columns.\")\n",
    "evaluator.rotate_columns_inplace(encrypted_matrix, gal_keys)\n",
    "print(\"    + Noise budget after rotation: {} bits\".format(\n",
    "    decryptor.invariant_noise_budget(encrypted_matrix)))\n",
    "print(\"    + Decrypt and decode ...... Correct.\")\n",
    "decryptor.decrypt(encrypted_matrix, plain_result)\n",
    "batch_encoder.decode(plain_result, pod_matrix)\n",
    "print_matrix(pod_matrix, row_size)"
   ]
  },
  {
   "cell_type": "markdown",
   "metadata": {},
   "source": [
    "Finally, we rotate the rows 4 steps to the right, decrypt, decode, and print."
   ]
  },
  {
   "cell_type": "code",
   "execution_count": null,
   "metadata": {},
   "outputs": [],
   "source": [
    "print(\"Rotate rows 4 steps right.\")\n",
    "evaluator.rotate_rows_inplace(encrypted_matrix, -4, gal_keys)\n",
    "print(\"    + Noise budget after rotation: {} bits\".format(\n",
    "    decryptor.invariant_noise_budget(encrypted_matrix)))\n",
    "print(\"    + Decrypt and decode ...... Correct.\")\n",
    "decryptor.decrypt(encrypted_matrix, plain_result)\n",
    "batch_encoder.decode(plain_result, pod_matrix)\n",
    "print_matrix(pod_matrix, row_size)"
   ]
  },
  {
   "cell_type": "markdown",
   "metadata": {},
   "source": [
    "Note that rotations do not consume any noise budget. However, this is only<br>\n",
    "the case when the special prime is at least as large as the other primes. The<br>\n",
    "same holds for relinearization. Microsoft SEAL does not require that the<br>\n",
    "special prime is of any particular size, so ensuring this is the case is left<br>\n",
    "for the user to do."
   ]
  },
  {
   "cell_type": "markdown",
   "metadata": {},
   "source": [
    "####################################################"
   ]
  },
  {
   "cell_type": "code",
   "execution_count": null,
   "metadata": {},
   "outputs": [],
   "source": [
    "print(\"Example: Rotation / Rotation in CKKS\");"
   ]
  },
  {
   "cell_type": "markdown",
   "metadata": {},
   "source": [
    "Rotations in the CKKS scheme work very similarly to rotations in BFV."
   ]
  },
  {
   "cell_type": "code",
   "execution_count": null,
   "metadata": {},
   "outputs": [],
   "source": [
    "parms = EncryptionParameters(scheme_type.CKKS)"
   ]
  },
  {
   "cell_type": "code",
   "execution_count": null,
   "metadata": {},
   "outputs": [],
   "source": [
    "poly_modulus_degree = 8192\n",
    "parms.set_poly_modulus_degree(poly_modulus_degree)\n",
    "parms.set_coeff_modulus(CoeffModulus.Create(\n",
    "    poly_modulus_degree, IntVector([40, 40, 40, 40, 40])))"
   ]
  },
  {
   "cell_type": "code",
   "execution_count": null,
   "metadata": {},
   "outputs": [],
   "source": [
    "context = SEALContext.Create(parms)\n",
    "print_parameters(context)"
   ]
  },
  {
   "cell_type": "code",
   "execution_count": null,
   "metadata": {},
   "outputs": [],
   "source": [
    "keygen = KeyGenerator(context)\n",
    "public_key = keygen.public_key()\n",
    "secret_key = keygen.secret_key()\n",
    "relin_keys = keygen.relin_keys()\n",
    "gal_keys = keygen.galois_keys()\n",
    "encryptor = Encryptor(context, public_key)\n",
    "evaluator = Evaluator(context)\n",
    "decryptor = Decryptor(context, secret_key)"
   ]
  },
  {
   "cell_type": "code",
   "execution_count": null,
   "metadata": {},
   "outputs": [],
   "source": [
    "ckks_encoder = CKKSEncoder(context)"
   ]
  },
  {
   "cell_type": "code",
   "execution_count": null,
   "metadata": {},
   "outputs": [],
   "source": [
    "slot_count = ckks_encoder.slot_count()\n",
    "print(\"Number of slots: {}\".format(slot_count))"
   ]
  },
  {
   "cell_type": "code",
   "execution_count": null,
   "metadata": {},
   "outputs": [],
   "source": [
    "step_size = 1.0 / (slot_count - 1)\n",
    "input = DoubleVector(list(map(lambda x: x*step_size, range(0, slot_count))))"
   ]
  },
  {
   "cell_type": "code",
   "execution_count": null,
   "metadata": {},
   "outputs": [],
   "source": [
    "print_vector(input)\n",
    "    \n",
    "scale = 2.0**50"
   ]
  },
  {
   "cell_type": "code",
   "execution_count": null,
   "metadata": {},
   "outputs": [],
   "source": [
    "print(\"Encode and encrypt.\")\n",
    "plain = Plaintext() \n",
    "ckks_encoder.encode(input, scale, plain)\n",
    "encrypted = Ciphertext() \n",
    "encryptor.encrypt(plain, encrypted)"
   ]
  },
  {
   "cell_type": "code",
   "execution_count": null,
   "metadata": {},
   "outputs": [],
   "source": [
    "rotated = Ciphertext()  \n",
    "print(\"Rotate 2 steps left.\")\n",
    "evaluator.rotate_vector(encrypted, 2, gal_keys, rotated)\n",
    "print(\"    + Decrypt and decode ...... Correct.\")\n",
    "decryptor.decrypt(rotated, plain)\n",
    "result = DoubleVector()\n",
    "ckks_encoder.decode(plain, result)\n",
    "print_vector(result)"
   ]
  },
  {
   "cell_type": "markdown",
   "metadata": {},
   "source": [
    "With the CKKS scheme it is also possible to evaluate a complex conjugation on<br>\n",
    "a vector of encrypted complex numbers, using Evaluator::complex_conjugate.<br>\n",
    "This is in fact a kind of rotation, and requires also Galois keys."
   ]
  }
 ],
 "metadata": {
  "kernelspec": {
   "display_name": "Python 3",
   "language": "python",
   "name": "python3"
  },
  "language_info": {
   "codemirror_mode": {
    "name": "ipython",
    "version": 3
   },
   "file_extension": ".py",
   "mimetype": "text/x-python",
   "name": "python",
   "nbconvert_exporter": "python",
   "pygments_lexer": "ipython3",
   "version": "3.7.5"
  }
 },
 "nbformat": 4,
 "nbformat_minor": 2
}
