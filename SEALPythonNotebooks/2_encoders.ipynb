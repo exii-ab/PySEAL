{
 "cells": [
  {
   "cell_type": "code",
   "execution_count": null,
   "metadata": {},
   "outputs": [],
   "source": [
    "import time\n",
    "import random\n",
    "from seal import EncryptionParameters, scheme_type, \\\n",
    "    SEALContext, print_parameters, KeyGenerator, \\\n",
    "    Encryptor, CoeffModulus, Evaluator, Decryptor, \\\n",
    "    Plaintext, Ciphertext, IntegerEncoder, PlainModulus, \\\n",
    "    BatchEncoder, CKKSEncoder, Int64Vector, UInt64Vector, \\\n",
    "    IntVector, DoubleVector\n",
    "from numpy import log2"
   ]
  },
  {
   "cell_type": "markdown",
   "metadata": {},
   "source": [
    "In `example_1_bfv_basics.py' we showed how to perform a very simple computation using the<br>\n",
    "BFV scheme. The computation was performed modulo the plain_modulus parameter, and<br>\n",
    "utilized only one coefficient from a BFV plaintext polynomial. This approach has<br>\n",
    "two notable problems:<br>\n",
    "<br>\n",
    "   (1) Practical applications typically use integer or real number arithmetic,<br>\n",
    "       not modular arithmetic;<br>\n",
    "   (2) We used only one coefficient of the plaintext polynomial. This is really<br>\n",
    "       wasteful, as the plaintext polynomial is large and will in any case be<br>\n",
    "       encrypted in its entirety.<br>\n",
    "<br>\n",
    "For (1), one may ask why not just increase the plain_modulus parameter until no<br>\n",
    "overflow occurs, and the computations behave as in integer arithmetic. The problem<br>\n",
    "is that increasing plain_modulus increases noise budget consumption, and decreases<br>\n",
    "the initial noise budget too.<br>\n",
    "<br>\n",
    "In these examples we will discuss other ways of laying out data into plaintext<br>\n",
    "elements (encoding) that allow more computations without data type overflow, and<br>\n",
    "can allow the full plaintext polynomial to be utilized."
   ]
  },
  {
   "cell_type": "code",
   "execution_count": null,
   "metadata": {},
   "outputs": [],
   "source": [
    "def print_matrix(A, n):\n",
    "    nrows = int(len(A)/n)\n",
    "    for i in range(nrows):\n",
    "        print(\"[\", \", \".join([\"{:.2f}\".format(x) for x in A[n*i:(n*i+4)]]), \", ... ,\",\n",
    "              \", \".join([\"{:.2f}\".format(x) for x in A[(n*(i+1)-5):(n*(i+1))]]), \"]\")"
   ]
  },
  {
   "cell_type": "code",
   "execution_count": null,
   "metadata": {},
   "outputs": [],
   "source": [
    "def print_vector(v):\n",
    "    n = len(v)\n",
    "    print(\"[\", \", \".join([\"{:.2f}\".format(x) for x in v[0:4]]), \", ..., \",\n",
    "          \", \".join([\"{:.2f}\".format(x) for x in v[(n-5):n]]))\n",
    "   "
   ]
  },
  {
   "cell_type": "code",
   "execution_count": null,
   "metadata": {},
   "outputs": [],
   "source": [
    "print(\"Example: Encoders / Integer Encoder\")"
   ]
  },
  {
   "cell_type": "markdown",
   "metadata": {},
   "source": [
    "IntegerEncoder] (For BFV scheme only)<br>\n",
    "<br>\n",
    "he IntegerEncoder encodes integers to BFV plaintext polynomials as follows.<br>\n",
    "irst, a binary expansion of the integer is computed. Next, a polynomial is<br>\n",
    "reated with the bits as coefficients. For example, the integer<br>\n",
    "<br>\n",
    "   26 = 2^4 + 2^3 + 2^1<br>\n",
    "<br>\n",
    "s encoded as the polynomial 1x^4 + 1x^3 + 1x^1. Conversely, plaintext<br>\n",
    "olynomials are decoded by evaluating them at x=2. For negative numbers the<br>\n",
    "ntegerEncoder simply stores all coefficients as either 0 or -1, where -1 is<br>\n",
    "epresented by the unsigned integer plain_modulus - 1 in memory.<br>\n",
    "<br>\n",
    "ince encrypted computations operate on the polynomials rather than on the<br>\n",
    "ncoded integers themselves, the polynomial coefficients will grow in the<br>\n",
    "ourse of such computations. For example, computing the sum of the encrypted<br>\n",
    "ncoded integer 26 with itself will result in an encrypted polynomial with<br>\n",
    "arger coefficients: 2x^4 + 2x^3 + 2x^1. Squaring the encrypted encoded<br>\n",
    "nteger 26 results also in increased coefficients due to cross-terms, namely,<br>\n",
    "<br>\n",
    "    (2x^4 + 2x^3 + 2x^1)^2 = 1x^8 + 2x^7 + 1x^6 + 2x^5 + 2x^4 + 1x^2;<br>\n",
    "<br>\n",
    "further computations will quickly increase the coefficients much more.<br>\n",
    "Decoding will still work correctly in this case (evaluating the polynomial<br>\n",
    "at x=2), but since the coefficients of plaintext polynomials are really<br>\n",
    "integers modulo plain_modulus, implicit reduction modulo plain_modulus may<br>\n",
    "yield unexpected results. For example, adding 1x^4 + 1x^3 + 1x^1 to itself<br>\n",
    "plain_modulus many times will result in the constant polynomial 0, which is<br>\n",
    "clearly not equal to 26 * plain_modulus. It can be difficult to predict when<br>\n",
    "such overflow will take place especially when computing several sequential<br>\n",
    "multiplications.<br>\n",
    "<br>\n",
    "The IntegerEncoder is easy to understand and use for simple computations,<br>\n",
    "and can be a good tool to experiment with for users new to Microsoft SEAL.<br>\n",
    "However, advanced users will probably prefer more efficient approaches,<br>\n",
    "such as the BatchEncoder or the CKKSEncoder."
   ]
  },
  {
   "cell_type": "code",
   "execution_count": null,
   "metadata": {},
   "outputs": [],
   "source": [
    "parms = EncryptionParameters(scheme_type.BFV)\n",
    "poly_modulus_degree = 4096\n",
    "parms.set_poly_modulus_degree(poly_modulus_degree)\n",
    "parms.set_coeff_modulus(CoeffModulus.BFVDefault(poly_modulus_degree))"
   ]
  },
  {
   "cell_type": "markdown",
   "metadata": {},
   "source": [
    "There is no hidden logic behind our choice of the plain_modulus. The only<br>\n",
    "thing that matters is that the plaintext polynomial coefficients will not<br>\n",
    "exceed this value at any point during our computation; otherwise the result<br>\n",
    "will be incorrect."
   ]
  },
  {
   "cell_type": "code",
   "execution_count": null,
   "metadata": {},
   "outputs": [],
   "source": [
    "parms.set_plain_modulus(512)\n",
    "context = SEALContext.Create(parms)\n",
    "print_parameters(context)"
   ]
  },
  {
   "cell_type": "code",
   "execution_count": null,
   "metadata": {},
   "outputs": [],
   "source": [
    "keygen = KeyGenerator(context)\n",
    "public_key = keygen.public_key()\n",
    "secret_key = keygen.secret_key();\n",
    "encryptor = Encryptor(context, public_key)\n",
    "evaluator = Evaluator(context)\n",
    "decryptor = Decryptor(context, secret_key)"
   ]
  },
  {
   "cell_type": "markdown",
   "metadata": {},
   "source": [
    "We create an IntegerEncoder."
   ]
  },
  {
   "cell_type": "code",
   "execution_count": null,
   "metadata": {},
   "outputs": [],
   "source": [
    "encoder = IntegerEncoder(context)"
   ]
  },
  {
   "cell_type": "markdown",
   "metadata": {},
   "source": [
    "First, we encode two integers as plaintext polynomials. Note that encoding<br>\n",
    "is not encryption: at this point nothing is encrypted."
   ]
  },
  {
   "cell_type": "code",
   "execution_count": null,
   "metadata": {},
   "outputs": [],
   "source": [
    "value1 = 5\n",
    "plain1 = encoder.encode(value1)\n",
    "print(\"Encode {} as polynomial {} (plain1), \".format(value1, plain1.to_string()))"
   ]
  },
  {
   "cell_type": "code",
   "execution_count": null,
   "metadata": {},
   "outputs": [],
   "source": [
    "value2 = -7\n",
    "plain2 = encoder.encode(value2)\n",
    "print(\"    encode {} as polynomial {} (plain2)\".format(value2, plain2.to_string()))"
   ]
  },
  {
   "cell_type": "markdown",
   "metadata": {},
   "source": [
    "Now we can encrypt the plaintext polynomials."
   ]
  },
  {
   "cell_type": "code",
   "execution_count": null,
   "metadata": {},
   "outputs": [],
   "source": [
    "encrypted1 = Ciphertext()\n",
    "encrypted2 = Ciphertext()\n",
    "print(\"Encrypt plain1 to encrypted1 and plain2 to encrypted2.\")\n",
    "encryptor.encrypt(plain1, encrypted1);\n",
    "encryptor.encrypt(plain2, encrypted2);\n",
    "print(\"    + Noise budget in encrypted1: {} bits\".format(\n",
    "        decryptor.invariant_noise_budget(encrypted1)))\n",
    "print(\"    + Noise budget in encrypted2: {} bits\".format(\n",
    "        decryptor.invariant_noise_budget(encrypted2)))"
   ]
  },
  {
   "cell_type": "markdown",
   "metadata": {},
   "source": [
    "As a simple example, we compute (-encrypted1 + encrypted2) * encrypted2."
   ]
  },
  {
   "cell_type": "code",
   "execution_count": null,
   "metadata": {},
   "outputs": [],
   "source": [
    "encryptor.encrypt(plain2, encrypted2)\n",
    "encrypted_result = Ciphertext()\n",
    "print(\"Compute encrypted_result = (-encrypted1 + encrypted2) * encrypted2.\")\n",
    "evaluator.negate(encrypted1, encrypted_result)\n",
    "evaluator.add_inplace(encrypted_result, encrypted2)\n",
    "evaluator.multiply_inplace(encrypted_result, encrypted2)\n",
    "print(\"    + Noise budget in encrypted_result: {} bits\".format(\n",
    "        decryptor.invariant_noise_budget(encrypted_result)))\n",
    "plain_result = Plaintext() \n",
    "print(\"Decrypt encrypted_result to plain_result.\")\n",
    "decryptor.decrypt(encrypted_result, plain_result);"
   ]
  },
  {
   "cell_type": "markdown",
   "metadata": {},
   "source": [
    "Print the result plaintext polynomial. The coefficients are not even close<br>\n",
    "to exceeding our plain_modulus, 512."
   ]
  },
  {
   "cell_type": "code",
   "execution_count": null,
   "metadata": {},
   "outputs": [],
   "source": [
    "print(\"    + Plaintext polynomial: {}\".format(plain_result.to_string()))"
   ]
  },
  {
   "cell_type": "markdown",
   "metadata": {},
   "source": [
    "Decode to obtain an integer result."
   ]
  },
  {
   "cell_type": "code",
   "execution_count": null,
   "metadata": {},
   "outputs": [],
   "source": [
    "print(\"Decode plain_result.\")\n",
    "print(\"    + Decoded integer: {} ...... Correct.\".format(encoder.decode_int32(plain_result)))"
   ]
  },
  {
   "cell_type": "markdown",
   "metadata": {},
   "source": [
    "########################################"
   ]
  },
  {
   "cell_type": "code",
   "execution_count": null,
   "metadata": {},
   "outputs": [],
   "source": [
    "print(\"Example: Encoders / Batch Encoder\");"
   ]
  },
  {
   "cell_type": "markdown",
   "metadata": {},
   "source": [
    "[BatchEncoder] (For BFV scheme only)<br>\n",
    "<br>\n",
    "Let N denote the poly_modulus_degree and T denote the plain_modulus. Batching<br>\n",
    "allows the BFV plaintext polynomials to be viewed as 2-by-(N/2) matrices, with<br>\n",
    "each element an integer modulo T. In the matrix view, encrypted operations act<br>\n",
    "element-wise on encrypted matrices, allowing the user to obtain speeds-ups of<br>\n",
    "several orders of magnitude in fully vectorizable computations. Thus, in all<br>\n",
    "but the simplest computations, batching should be the preferred method to use<br>\n",
    "with BFV, and when used properly will result in implementations outperforming<br>\n",
    "anything done with the IntegerEncoder."
   ]
  },
  {
   "cell_type": "code",
   "execution_count": null,
   "metadata": {},
   "outputs": [],
   "source": [
    "parms = EncryptionParameters(scheme_type.BFV)\n",
    "poly_modulus_degree = 8192\n",
    "parms.set_poly_modulus_degree(poly_modulus_degree)\n",
    "parms.set_coeff_modulus(CoeffModulus.BFVDefault(poly_modulus_degree))"
   ]
  },
  {
   "cell_type": "markdown",
   "metadata": {},
   "source": [
    "To enable batching, we need to set the plain_modulus to be a prime number<br>\n",
    "congruent to 1 modulo 2*poly_modulus_degree. Microsoft SEAL provides a helper<br>\n",
    "method for finding such a prime. In this example we create a 20-bit prime<br>\n",
    "that supports batching."
   ]
  },
  {
   "cell_type": "code",
   "execution_count": null,
   "metadata": {},
   "outputs": [],
   "source": [
    "parms.set_plain_modulus(PlainModulus.Batching(poly_modulus_degree, 20))\n",
    "context = SEALContext.Create(parms)\n",
    "print_parameters(context)"
   ]
  },
  {
   "cell_type": "markdown",
   "metadata": {},
   "source": [
    "We can verify that batching is indeed enabled by looking at the encryption<br>\n",
    "parameter qualifiers created by SEALContext.<br>\n",
    "#HERE"
   ]
  },
  {
   "cell_type": "code",
   "execution_count": null,
   "metadata": {},
   "outputs": [],
   "source": [
    "qualifiers = context.qualifiers()\n",
    "print(\"Batching enabled: {}\".format(qualifiers.using_batching))"
   ]
  },
  {
   "cell_type": "code",
   "execution_count": null,
   "metadata": {},
   "outputs": [],
   "source": [
    "keygen = KeyGenerator(context)\n",
    "public_key = keygen.public_key()\n",
    "secret_key = keygen.secret_key()\n",
    "relin_keys = keygen.relin_keys()\n",
    "encryptor = Encryptor(context, public_key)\n",
    "evaluator = Evaluator(context)\n",
    "decryptor = Decryptor(context, secret_key)"
   ]
  },
  {
   "cell_type": "markdown",
   "metadata": {},
   "source": [
    "Batching is done through an instance of the BatchEncoder class."
   ]
  },
  {
   "cell_type": "code",
   "execution_count": null,
   "metadata": {},
   "outputs": [],
   "source": [
    "batch_encoder = BatchEncoder(context)"
   ]
  },
  {
   "cell_type": "markdown",
   "metadata": {},
   "source": [
    "The total number of batching `slots' equals the poly_modulus_degree, N, and<br>\n",
    "these slots are organized into 2-by-(N/2) matrices that can be encrypted and<br>\n",
    "computed on. Each slot contains an integer modulo plain_modulus."
   ]
  },
  {
   "cell_type": "code",
   "execution_count": null,
   "metadata": {},
   "outputs": [],
   "source": [
    "slot_count = batch_encoder.slot_count()\n",
    "row_size = int(slot_count / 2)\n",
    "print(\"Plaintext matrix row size: {}\".format(row_size))"
   ]
  },
  {
   "cell_type": "markdown",
   "metadata": {},
   "source": [
    "The matrix plaintext is simply given to BatchEncoder as a flattened vector<br>\n",
    "of numbers. The first `row_size' many numbers form the first row, and the<br>\n",
    "rest form the second row. Here we create the following matrix:<br>\n",
    "<br>\n",
    "    [ 0,  1,  2,  3,  0,  0, ...,  0 ]<br>\n",
    "    [ 4,  5,  6,  7,  0,  0, ...,  0 ]"
   ]
  },
  {
   "cell_type": "code",
   "execution_count": null,
   "metadata": {},
   "outputs": [],
   "source": [
    "pod_matrix = Int64Vector([0] * slot_count)\n",
    "pod_matrix[0] = 0\n",
    "pod_matrix[1] = 1\n",
    "pod_matrix[2] = 2\n",
    "pod_matrix[3] = 3\n",
    "pod_matrix[row_size] = 4\n",
    "pod_matrix[row_size + 1] = 5\n",
    "pod_matrix[row_size + 2] = 6\n",
    "pod_matrix[row_size + 3] = 7"
   ]
  },
  {
   "cell_type": "code",
   "execution_count": null,
   "metadata": {},
   "outputs": [],
   "source": [
    "print(\"Input plaintext matrix:\")\n",
    "print_matrix(pod_matrix, row_size)"
   ]
  },
  {
   "cell_type": "markdown",
   "metadata": {},
   "source": [
    "First we use BatchEncoder to encode the matrix into a plaintext polynomial."
   ]
  },
  {
   "cell_type": "code",
   "execution_count": null,
   "metadata": {},
   "outputs": [],
   "source": [
    "plain_matrix = Plaintext() \n",
    "print(\"Encode plaintext matrix:\")\n",
    "batch_encoder.encode(pod_matrix, plain_matrix)"
   ]
  },
  {
   "cell_type": "markdown",
   "metadata": {},
   "source": [
    "We can instantly decode to verify correctness of the encoding. Note that no<br>\n",
    "encryption or decryption has yet taken place."
   ]
  },
  {
   "cell_type": "code",
   "execution_count": null,
   "metadata": {},
   "outputs": [],
   "source": [
    "print(\"    + Decode plaintext matrix ...... Correct.\")\n",
    "pod_result = Int64Vector([0] * slot_count)\n",
    "batch_encoder.decode(plain_matrix, pod_result)\n",
    "print_matrix(pod_result, row_size)"
   ]
  },
  {
   "cell_type": "markdown",
   "metadata": {},
   "source": [
    "Next we encrypt the encoded plaintext."
   ]
  },
  {
   "cell_type": "code",
   "execution_count": null,
   "metadata": {},
   "outputs": [],
   "source": [
    "encrypted_matrix = Ciphertext()\n",
    "print(\"Encrypt plain_matrix to encrypted_matrix.\")\n",
    "encryptor.encrypt(plain_matrix, encrypted_matrix)\n",
    "print(\"    + Noise budget in encrypted_matrix: {} bits\".format(\n",
    "        decryptor.invariant_noise_budget(encrypted_matrix)))"
   ]
  },
  {
   "cell_type": "markdown",
   "metadata": {},
   "source": [
    "Operating on the ciphertext results in homomorphic operations being performed<br>\n",
    "simultaneously in all 8192 slots (matrix elements). To illustrate this, we<br>\n",
    "form another plaintext matrix<br>\n",
    "<br>\n",
    "    [ 1,  2,  1,  2,  1,  2, ..., 2 ]<br>\n",
    "    [ 1,  2,  1,  2,  1,  2, ..., 2 ]<br>\n",
    "<br>\n",
    "and encode it into a plaintext."
   ]
  },
  {
   "cell_type": "code",
   "execution_count": null,
   "metadata": {},
   "outputs": [],
   "source": [
    "pod_matrix2 = UInt64Vector([1,2]* row_size)\n",
    "plain_matrix2 = Plaintext()\n",
    "batch_encoder.encode(pod_matrix2, plain_matrix2);\n",
    "print(\"Second input plaintext matrix:\")\n",
    "print_matrix(pod_matrix2, row_size);"
   ]
  },
  {
   "cell_type": "markdown",
   "metadata": {},
   "source": [
    "We now add the second (plaintext) matrix to the encrypted matrix, and square<br>\n",
    "the sum."
   ]
  },
  {
   "cell_type": "code",
   "execution_count": null,
   "metadata": {},
   "outputs": [],
   "source": [
    "print(\"Sum, square, and relinearize.\")\n",
    "evaluator.add_plain_inplace(encrypted_matrix, plain_matrix2)\n",
    "evaluator.square_inplace(encrypted_matrix)\n",
    "evaluator.relinearize_inplace(encrypted_matrix, relin_keys)"
   ]
  },
  {
   "cell_type": "markdown",
   "metadata": {},
   "source": [
    "How much noise budget do we have left?"
   ]
  },
  {
   "cell_type": "code",
   "execution_count": null,
   "metadata": {},
   "outputs": [],
   "source": [
    "print(\"    + Noise budget in result: {} bits\".format(\n",
    "        decryptor.invariant_noise_budget(encrypted_matrix)))"
   ]
  },
  {
   "cell_type": "markdown",
   "metadata": {},
   "source": [
    "We decrypt and decompose the plaintext to recover the result as a matrix."
   ]
  },
  {
   "cell_type": "code",
   "execution_count": null,
   "metadata": {},
   "outputs": [],
   "source": [
    "plain_result = Plaintext()\n",
    "print(\"Decrypt and decode result.\")\n",
    "decryptor.decrypt(encrypted_matrix, plain_result)\n",
    "batch_encoder.decode(plain_result, pod_result)\n",
    "print(\"    + Result plaintext matrix ...... Correct.\")\n",
    "print_matrix(pod_result, row_size)"
   ]
  },
  {
   "cell_type": "markdown",
   "metadata": {},
   "source": [
    "Batching allows us to efficiently use the full plaintext polynomial when the<br>\n",
    "desired encrypted computation is highly parallelizable. However, it has not<br>\n",
    "solved the other problem mentioned in the beginning of this file: each slot<br>\n",
    "holds only an integer modulo plain_modulus, and unless plain_modulus is very<br>\n",
    "large, we can quickly encounter data type overflow and get unexpected results<br>\n",
    "when integer computations are desired. Note that overflow cannot be detected<br>\n",
    "in encrypted form. The CKKS scheme (and the CKKSEncoder) addresses the data<br>\n",
    "type overflow issue, but at the cost of yielding only approximate results."
   ]
  },
  {
   "cell_type": "markdown",
   "metadata": {},
   "source": [
    "#############################################"
   ]
  },
  {
   "cell_type": "code",
   "execution_count": null,
   "metadata": {},
   "outputs": [],
   "source": [
    "print(\"Example: Encoders / CKKS Encoder\")"
   ]
  },
  {
   "cell_type": "markdown",
   "metadata": {},
   "source": [
    "[CKKSEncoder] (For CKKS scheme only)<br>\n",
    "<br>\n",
    "In this example we demonstrate the Cheon-Kim-Kim-Song (CKKS) scheme for<br>\n",
    "computing on encrypted real or complex numbers. We start by creating<br>\n",
    "encryption parameters for the CKKS scheme. There are two important<br>\n",
    "differences compared to the BFV scheme:<br>\n",
    "<br>\n",
    "    (1) CKKS does not use the plain_modulus encryption parameter;<br>\n",
    "    (2) Selecting the coeff_modulus in a specific way can be very important<br>\n",
    "        when using the CKKS scheme. We will explain this further in the file<br>\n",
    "        `ckks_basics.cpp'. In this example we use CoeffModulus::Create to<br>\n",
    "        generate 5 40-bit prime numbers."
   ]
  },
  {
   "cell_type": "code",
   "execution_count": null,
   "metadata": {},
   "outputs": [],
   "source": [
    "parms = EncryptionParameters(scheme_type.CKKS)"
   ]
  },
  {
   "cell_type": "code",
   "execution_count": null,
   "metadata": {},
   "outputs": [],
   "source": [
    "poly_modulus_degree = 8192\n",
    "parms.set_poly_modulus_degree(poly_modulus_degree)\n",
    "parms.set_coeff_modulus(CoeffModulus.Create(\n",
    "        poly_modulus_degree, IntVector([40, 40, 40, 40, 40])))"
   ]
  },
  {
   "cell_type": "markdown",
   "metadata": {},
   "source": [
    "We create the SEALContext as usual and print the parameters."
   ]
  },
  {
   "cell_type": "code",
   "execution_count": null,
   "metadata": {},
   "outputs": [],
   "source": [
    "context = SEALContext.Create(parms)\n",
    "print_parameters(context)"
   ]
  },
  {
   "cell_type": "markdown",
   "metadata": {},
   "source": [
    "Keys are created the same way as for the BFV scheme."
   ]
  },
  {
   "cell_type": "code",
   "execution_count": null,
   "metadata": {},
   "outputs": [],
   "source": [
    "keygen = KeyGenerator(context)\n",
    "public_key = keygen.public_key()\n",
    "secret_key = keygen.secret_key()\n",
    "relin_keys = keygen.relin_keys()"
   ]
  },
  {
   "cell_type": "markdown",
   "metadata": {},
   "source": [
    "We also set up an Encryptor, Evaluator, and Decryptor as usual."
   ]
  },
  {
   "cell_type": "code",
   "execution_count": null,
   "metadata": {},
   "outputs": [],
   "source": [
    "encryptor = Encryptor(context, public_key)\n",
    "evaluator = Evaluator(context)\n",
    "decryptor = Decryptor(context, secret_key)"
   ]
  },
  {
   "cell_type": "markdown",
   "metadata": {},
   "source": [
    "To create CKKS plaintexts we need a special encoder: there is no other way<br>\n",
    "to create them. The IntegerEncoder and BatchEncoder cannot be used with the<br>\n",
    "CKKS scheme. The CKKSEncoder encodes vectors of real or complex numbers into<br>\n",
    "Plaintext objects, which can subsequently be encrypted. At a high level this<br>\n",
    "looks a lot like what BatchEncoder does for the BFV scheme, but the theory<br>\n",
    "behind it is completely different."
   ]
  },
  {
   "cell_type": "code",
   "execution_count": null,
   "metadata": {},
   "outputs": [],
   "source": [
    "    encoder = CKKSEncoder(context)"
   ]
  },
  {
   "cell_type": "markdown",
   "metadata": {},
   "source": [
    "In CKKS the number of slots is poly_modulus_degree / 2 and each slot encodes<br>\n",
    "one real or complex number. This should be contrasted with BatchEncoder in<br>\n",
    "the BFV scheme, where the number of slots is equal to poly_modulus_degree<br>\n",
    "and they are arranged into a matrix with two rows."
   ]
  },
  {
   "cell_type": "code",
   "execution_count": null,
   "metadata": {},
   "outputs": [],
   "source": [
    "slot_count = encoder.slot_count()\n",
    "print(\"Number of slots: {}\".format(slot_count))"
   ]
  },
  {
   "cell_type": "markdown",
   "metadata": {},
   "source": [
    "We create a small vector to encode; the CKKSEncoder will implicitly pad it<br>\n",
    "with zeros to full size (poly_modulus_degree / 2) when encoding."
   ]
  },
  {
   "cell_type": "code",
   "execution_count": null,
   "metadata": {},
   "outputs": [],
   "source": [
    "input = DoubleVector([ 0.0, 1.1, 2.2, 3.3 ])\n",
    "print(\"Input vector: \")\n",
    "print_vector(input);"
   ]
  },
  {
   "cell_type": "markdown",
   "metadata": {},
   "source": [
    "Now we encode it with CKKSEncoder. The floating-point coefficients of `input'<br>\n",
    "will be scaled up by the parameter `scale'. This is necessary since even in<br>\n",
    "the CKKS scheme the plaintext elements are fundamentally polynomials with<br>\n",
    "integer coefficients. It is instructive to think of the scale as determining<br>\n",
    "the bit-precision of the encoding; naturally it will affect the precision of<br>\n",
    "the result.<br>\n",
    "<br>\n",
    "In CKKS the message is stored modulo coeff_modulus (in BFV it is stored modulo<br>\n",
    "plain_modulus), so the scaled message must not get too close to the total size<br>\n",
    "of coeff_modulus. In this case our coeff_modulus is quite large (200 bits) so<br>\n",
    "we have little to worry about in this regard. For this simple example a 30-bit<br>\n",
    "scale is more than enough."
   ]
  },
  {
   "cell_type": "code",
   "execution_count": null,
   "metadata": {},
   "outputs": [],
   "source": [
    "plain = Plaintext() \n",
    "scale = 2.0**30\n",
    "print(\"Encode input vector.\")\n",
    "encoder.encode(input, scale, plain)"
   ]
  },
  {
   "cell_type": "markdown",
   "metadata": {},
   "source": [
    "We can instantly decode to check the correctness of encoding."
   ]
  },
  {
   "cell_type": "code",
   "execution_count": null,
   "metadata": {},
   "outputs": [],
   "source": [
    "output = DoubleVector()\n",
    "print(\"    + Decode input vector ...... Correct.\")\n",
    "encoder.decode(plain, output)\n",
    "print_vector(output)"
   ]
  },
  {
   "cell_type": "markdown",
   "metadata": {},
   "source": [
    "The vector is encrypted the same was as in BFV."
   ]
  },
  {
   "cell_type": "code",
   "execution_count": null,
   "metadata": {},
   "outputs": [],
   "source": [
    "encrypted = Ciphertext() \n",
    "print(\"Encrypt input vector, square, and relinearize.\")\n",
    "encryptor.encrypt(plain, encrypted)"
   ]
  },
  {
   "cell_type": "markdown",
   "metadata": {},
   "source": [
    "Basic operations on the ciphertexts are still easy to do. Here we square the<br>\n",
    "ciphertext, decrypt, decode, and print the result. We note also that decoding<br>\n",
    "returns a vector of full size (poly_modulus_degree / 2); this is because of<br>\n",
    "the implicit zero-padding mentioned above."
   ]
  },
  {
   "cell_type": "code",
   "execution_count": null,
   "metadata": {},
   "outputs": [],
   "source": [
    "evaluator.square_inplace(encrypted)\n",
    "evaluator.relinearize_inplace(encrypted, relin_keys)"
   ]
  },
  {
   "cell_type": "markdown",
   "metadata": {},
   "source": [
    "We notice that the scale in the result has increased. In fact, it is now the<br>\n",
    "square of the original scale: 2^60."
   ]
  },
  {
   "cell_type": "code",
   "execution_count": null,
   "metadata": {},
   "outputs": [],
   "source": [
    "print(\"    + Scale in squared input: {} ( {} bits)\".format(\n",
    "        encrypted.scale(), log2(encrypted.scale()))) "
   ]
  },
  {
   "cell_type": "code",
   "execution_count": null,
   "metadata": {},
   "outputs": [],
   "source": [
    "print(\"Decrypt and decode.\")\n",
    "decryptor.decrypt(encrypted, plain)\n",
    "encoder.decode(plain, output)\n",
    "print(\"    + Result vector ...... Correct.\")\n",
    "print_vector(output)"
   ]
  },
  {
   "cell_type": "markdown",
   "metadata": {},
   "source": [
    "The CKKS scheme allows the scale to be reduced between encrypted computations.<br>\n",
    "This is a fundamental and critical feature that makes CKKS very powerful and<br>\n",
    "flexible. We will discuss it in great detail in `3_levels.cpp' and later in<br>\n",
    "`4_ckks_basics.cpp'."
   ]
  }
 ],
 "metadata": {
  "kernelspec": {
   "display_name": "Python 3",
   "language": "python",
   "name": "python3"
  },
  "language_info": {
   "codemirror_mode": {
    "name": "ipython",
    "version": 3
   },
   "file_extension": ".py",
   "mimetype": "text/x-python",
   "name": "python",
   "nbconvert_exporter": "python",
   "pygments_lexer": "ipython3",
   "version": "3.7.5"
  }
 },
 "nbformat": 4,
 "nbformat_minor": 2
}
