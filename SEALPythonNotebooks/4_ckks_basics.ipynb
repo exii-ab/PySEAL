{
 "cells": [
  {
   "cell_type": "code",
   "execution_count": null,
   "metadata": {},
   "outputs": [],
   "source": [
    "import time\n",
    "import random\n",
    "from seal import EncryptionParameters, scheme_type, \\\n",
    "    SEALContext, print_parameters, KeyGenerator, \\\n",
    "    Encryptor, CoeffModulus, Evaluator, Decryptor, \\\n",
    "    Plaintext, Ciphertext, IntegerEncoder, PlainModulus, \\\n",
    "    BatchEncoder, CKKSEncoder, Int64Vector, UInt64Vector, \\\n",
    "    IntVector, DoubleVector\n",
    "from numpy import log2\n",
    "from example_2_encoders import print_vector"
   ]
  },
  {
   "cell_type": "code",
   "execution_count": null,
   "metadata": {},
   "outputs": [],
   "source": [
    "print(\"Example: CKKS Basics\");"
   ]
  },
  {
   "cell_type": "markdown",
   "metadata": {},
   "source": [
    "In this example we demonstrate evaluating a polynomial function<br>\n",
    "<br>\n",
    "    PI*x^3 + 0.4*x + 1<br>\n",
    "<br>\n",
    "on encrypted floating-point input data x for a set of 4096 equidistant points<br>\n",
    "in the interval [0, 1]. This example demonstrates many of the main features<br>\n",
    "of the CKKS scheme, but also the challenges in using it.<br>\n",
    "<br>\n",
    " We start by setting up the CKKS scheme."
   ]
  },
  {
   "cell_type": "code",
   "execution_count": null,
   "metadata": {},
   "outputs": [],
   "source": [
    "parms = EncryptionParameters(scheme_type.CKKS)"
   ]
  },
  {
   "cell_type": "markdown",
   "metadata": {},
   "source": [
    "We saw in `2_encoders.cpp' that multiplication in CKKS causes scales<br>\n",
    "in ciphertexts to grow. The scale of any ciphertext must not get too close<br>\n",
    "to the total size of coeff_modulus, or else the ciphertext simply runs out of<br>\n",
    "room to store the scaled-up plaintext. The CKKS scheme provides a `rescale'<br>\n",
    "functionality that can reduce the scale, and stabilize the scale expansion.<br>\n",
    "<br>\n",
    "Rescaling is a kind of modulus switch operation (recall `3_levels.cpp').<br>\n",
    "As modulus switching, it removes the last of the primes from coeff_modulus,<br>\n",
    "but as a side-effect it scales down the ciphertext by the removed prime.<br>\n",
    "Usually we want to have perfect control over how the scales are changed,<br>\n",
    "which is why for the CKKS scheme it is more common to use carefully selected<br>\n",
    "primes for the coeff_modulus.<br>\n",
    "<br>\n",
    "More precisely, suppose that the scale in a CKKS ciphertext is S, and the<br>\n",
    "last prime in the current coeff_modulus (for the ciphertext) is P. Rescaling<br>\n",
    "to the next level changes the scale to S/P, and removes the prime P from the<br>\n",
    "coeff_modulus, as usual in modulus switching. The number of primes limits<br>\n",
    "how many rescalings can be done, and thus limits the multiplicative depth of<br>\n",
    "the computation.<br>\n",
    "<br>\n",
    "It is possible to choose the initial scale freely. One good strategy can be<br>\n",
    "to is to set the initial scale S and primes P_i in the coeff_modulus to be<br>\n",
    "very close to each other. If ciphertexts have scale S before multiplication,<br>\n",
    "they have scale S^2 after multiplication, and S^2/P_i after rescaling. If all<br>\n",
    "P_i are close to S, then S^2/P_i is close to S again. This way we stabilize the<br>\n",
    "scales to be close to S throughout the computation. Generally, for a circuit<br>\n",
    "of depth D, we need to rescale D times, i.e., we need to be able to remove D<br>\n",
    "primes from the coefficient modulus. Once we have only one prime left in the<br>\n",
    "coeff_modulus, the remaining prime must be larger than S by a few bits to<br>\n",
    "preserve the pre-decimal-point value of the plaintext.<br>\n",
    "<br>\n",
    "Therefore, a generally good strategy is to choose parameters for the CKKS<br>\n",
    "scheme as follows: <br>\n",
    "<br>\n",
    "    (1) Choose a 60-bit prime as the first prime in coeff_modulus. This will<br>\n",
    "        give the highest precision when decrypting;<br>\n",
    "    (2) Choose another 60-bit prime as the last element of coeff_modulus, as<br>\n",
    "        this will be used as the special prime and should be as large as the<br>\n",
    "        largest of the other primes;<br>\n",
    "    (3) Choose the intermediate primes to be close to each other.<br>\n",
    "<br>\n",
    "We use CoeffModulus::Create to generate primes of the appropriate size. Note<br>\n",
    "that our coeff_modulus is 200 bits total, which is below the bound for our<br>\n",
    "poly_modulus_degree: CoeffModulus::MaxBitCount(8192) returns 218."
   ]
  },
  {
   "cell_type": "code",
   "execution_count": null,
   "metadata": {},
   "outputs": [],
   "source": [
    "poly_modulus_degree = 8192\n",
    "parms.set_poly_modulus_degree(poly_modulus_degree)\n",
    "parms.set_coeff_modulus(CoeffModulus.Create(\n",
    "    poly_modulus_degree, IntVector([60, 40, 40, 60])))"
   ]
  },
  {
   "cell_type": "markdown",
   "metadata": {},
   "source": [
    "We choose the initial scale to be 2^40. At the last level, this leaves us<br>\n",
    "60-40=20 bits of precision before the decimal point, and enough (roughly<br>\n",
    "10-20 bits) of precision after the decimal point. Since our intermediate<br>\n",
    "primes are 40 bits (in fact, they are very close to 2^40), we can achieve<br>\n",
    "scale stabilization as described above."
   ]
  },
  {
   "cell_type": "code",
   "execution_count": null,
   "metadata": {},
   "outputs": [],
   "source": [
    "scale = 2.0**40"
   ]
  },
  {
   "cell_type": "code",
   "execution_count": null,
   "metadata": {},
   "outputs": [],
   "source": [
    "context = SEALContext.Create(parms)\n",
    "print_parameters(context)"
   ]
  },
  {
   "cell_type": "code",
   "execution_count": null,
   "metadata": {},
   "outputs": [],
   "source": [
    "keygen = KeyGenerator(context)\n",
    "public_key = keygen.public_key()\n",
    "secret_key = keygen.secret_key()\n",
    "relin_keys = keygen.relin_keys()\n",
    "encryptor = Encryptor(context, public_key)\n",
    "evaluator = Evaluator(context)\n",
    "decryptor = Decryptor(context, secret_key)"
   ]
  },
  {
   "cell_type": "code",
   "execution_count": null,
   "metadata": {},
   "outputs": [],
   "source": [
    "encoder = CKKSEncoder(context)\n",
    "slot_count = encoder.slot_count()\n",
    "print(\"Number of slots: {}\".format(slot_count))"
   ]
  },
  {
   "cell_type": "code",
   "execution_count": null,
   "metadata": {},
   "outputs": [],
   "source": [
    "step_size = 1.0 / (slot_count - 1)\n",
    "input = DoubleVector(list(map(lambda x: x*step_size, range(0, slot_count))))"
   ]
  },
  {
   "cell_type": "code",
   "execution_count": null,
   "metadata": {},
   "outputs": [],
   "source": [
    "print(\"Input vector: \")\n",
    "print_vector(input)"
   ]
  },
  {
   "cell_type": "code",
   "execution_count": null,
   "metadata": {},
   "outputs": [],
   "source": [
    "print(\"Evaluating polynomial PI*x^3 + 0.4x + 1 ...\")"
   ]
  },
  {
   "cell_type": "markdown",
   "metadata": {},
   "source": [
    "We create plaintexts for PI, 0.4, and 1 using an overload of CKKSEncoder::encode<br>\n",
    "that encodes the given floating-point value to every slot in the vector."
   ]
  },
  {
   "cell_type": "code",
   "execution_count": null,
   "metadata": {},
   "outputs": [],
   "source": [
    "plain_coeff3 = Plaintext()\n",
    "plain_coeff1 = Plaintext()\n",
    "plain_coeff0 = Plaintext()\n",
    "encoder.encode(3.14159265, scale, plain_coeff3)\n",
    "encoder.encode(0.4, scale, plain_coeff1)\n",
    "encoder.encode(1.0, scale, plain_coeff0)"
   ]
  },
  {
   "cell_type": "code",
   "execution_count": null,
   "metadata": {},
   "outputs": [],
   "source": [
    "x_plain = Plaintext()\n",
    "print(\"Encode input vectors.\")\n",
    "encoder.encode(input, scale, x_plain)\n",
    "x1_encrypted = Ciphertext() \n",
    "encryptor.encrypt(x_plain, x1_encrypted)"
   ]
  },
  {
   "cell_type": "markdown",
   "metadata": {},
   "source": [
    "To compute x^3 we first compute x^2 and relinearize. However, the scale has<br>\n",
    "now grown to 2^80."
   ]
  },
  {
   "cell_type": "code",
   "execution_count": null,
   "metadata": {},
   "outputs": [],
   "source": [
    "x3_encrypted = Ciphertext() \n",
    "print(\"Compute x^2 and relinearize:\")\n",
    "evaluator.square(x1_encrypted, x3_encrypted)\n",
    "evaluator.relinearize_inplace(x3_encrypted, relin_keys)\n",
    "print(\"    + Scale of x^2 before rescale: {} bits\".format(log2(x3_encrypted.scale())))"
   ]
  },
  {
   "cell_type": "markdown",
   "metadata": {},
   "source": [
    "Now rescale; in addition to a modulus switch, the scale is reduced down by<br>\n",
    "a factor equal to the prime that was switched away (40-bit prime). Hence, the<br>\n",
    "new scale should be close to 2^40. Note, however, that the scale is not equal<br>\n",
    "to 2^40: this is because the 40-bit prime is only close to 2^40."
   ]
  },
  {
   "cell_type": "code",
   "execution_count": null,
   "metadata": {},
   "outputs": [],
   "source": [
    "print(\"Rescale x^2.\")\n",
    "evaluator.rescale_to_next_inplace(x3_encrypted)\n",
    "print(\"    + Scale of x^2 after rescale: {} bits\".format(log2(x3_encrypted.scale())))"
   ]
  },
  {
   "cell_type": "markdown",
   "metadata": {},
   "source": [
    "Now x3_encrypted is at a different level than x1_encrypted, which prevents us<br>\n",
    "from multiplying them to compute x^3. We could simply switch x1_encrypted to<br>\n",
    "the next parameters in the modulus switching chain. However, since we still<br>\n",
    "need to multiply the x^3 term with PI (plain_coeff3), we instead compute PI*x<br>\n",
    "first and multiply that with x^2 to obtain PI*x^3. To this end, we compute<br>\n",
    "PI*x and rescale it back from scale 2^80 to something close to 2^40."
   ]
  },
  {
   "cell_type": "code",
   "execution_count": null,
   "metadata": {},
   "outputs": [],
   "source": [
    "print(\"Compute and rescale PI*x.\")\n",
    "x1_encrypted_coeff3 = Ciphertext() \n",
    "evaluator.multiply_plain(x1_encrypted, plain_coeff3, x1_encrypted_coeff3)\n",
    "print(\"    + Scale of PI*x before rescale: {} bits\".format(log2(x1_encrypted_coeff3.scale())))\n",
    "evaluator.rescale_to_next_inplace(x1_encrypted_coeff3)\n",
    "print(\"    + Scale of PI*x after rescale: {} bits\".format(log2(x1_encrypted_coeff3.scale())))"
   ]
  },
  {
   "cell_type": "markdown",
   "metadata": {},
   "source": [
    "Since x3_encrypted and x1_encrypted_coeff3 have the same exact scale and use<br>\n",
    "the same encryption parameters, we can multiply them together. We write the<br>\n",
    "result to x3_encrypted, relinearize, and rescale. Note that again the scale<br>\n",
    "is something close to 2^40, but not exactly 2^40 due to yet another scaling<br>\n",
    "by a prime. We are down to the last level in the modulus switching chain."
   ]
  },
  {
   "cell_type": "code",
   "execution_count": null,
   "metadata": {},
   "outputs": [],
   "source": [
    "print(\"Compute, relinearize, and rescale (PI*x)*x^2.\")\n",
    "evaluator.multiply_inplace(x3_encrypted, x1_encrypted_coeff3)\n",
    "evaluator.relinearize_inplace(x3_encrypted, relin_keys)\n",
    "print(\"    + Scale of PI*x^3 before rescale: {} bits\".format(log2(x3_encrypted.scale())))"
   ]
  },
  {
   "cell_type": "code",
   "execution_count": null,
   "metadata": {},
   "outputs": [],
   "source": [
    "evaluator.rescale_to_next_inplace(x3_encrypted)\n",
    "print(\"    + Scale of PI*x^3 after rescale: {} bits\".format(log2(x3_encrypted.scale())))"
   ]
  },
  {
   "cell_type": "markdown",
   "metadata": {},
   "source": [
    "Next we compute the degree one term. All this requires is one multiply_plain<br>\n",
    "with plain_coeff1. We overwrite x1_encrypted with the result."
   ]
  },
  {
   "cell_type": "code",
   "execution_count": null,
   "metadata": {},
   "outputs": [],
   "source": [
    "print(\"Compute and rescale 0.4*x.\")\n",
    "evaluator.multiply_plain_inplace(x1_encrypted, plain_coeff1)\n",
    "print(\"    + Scale of 0.4*x before rescale: {} bits\".format(log2(x1_encrypted.scale())))\n",
    "evaluator.rescale_to_next_inplace(x1_encrypted)\n",
    "print(\"    + Scale of 0.4*x after rescale: {} bits\".format(log2(x1_encrypted.scale())))"
   ]
  },
  {
   "cell_type": "markdown",
   "metadata": {},
   "source": [
    "Now we would hope to compute the sum of all three terms. However, there is<br>\n",
    "a serious problem: the encryption parameters used by all three terms are<br>\n",
    "different due to modulus switching from rescaling.<br>\n",
    "<br>\n",
    "Encrypted addition and subtraction require that the scales of the inputs are<br>\n",
    "the same, and also that the encryption parameters (parms_id) match. If there<br>\n",
    "is a mismatch, Evaluator will throw an exception."
   ]
  },
  {
   "cell_type": "code",
   "execution_count": null,
   "metadata": {},
   "outputs": [],
   "source": [
    "print(\"Parameters used by all three terms are different.\")\n",
    "print(\"    + Modulus chain index for x3_encrypted: {}\".format(\n",
    "    context.get_context_data(x3_encrypted.parms_id()).chain_index()))\n",
    "print(\"    + Modulus chain index for x1_encrypted: {}\".format(\n",
    "    context.get_context_data(x1_encrypted.parms_id()).chain_index()))\n",
    "print(\"    + Modulus chain index for plain_coeff0: {}\".format(\n",
    "    context.get_context_data(plain_coeff0.parms_id()).chain_index()))"
   ]
  },
  {
   "cell_type": "markdown",
   "metadata": {},
   "source": [
    "Let us carefully consider what the scales are at this point. We denote the<br>\n",
    "primes in coeff_modulus as P_0, P_1, P_2, P_3, in this order. P_3 is used as<br>\n",
    "the special modulus and is not involved in rescalings. After the computations<br>\n",
    "above the scales in ciphertexts are:<br>\n",
    "<br>\n",
    "    - Product x^2 has scale 2^80 and is at level 2;<br>\n",
    "    - Product PI*x has scale 2^80 and is at level 2;<br>\n",
    "    - We rescaled both down to scale 2^80/P_2 and level 1;<br>\n",
    "    - Product PI*x^3 has scale (2^80/P_2)^2;<br>\n",
    "    - We rescaled it down to scale (2^80/P_2)^2/P_1 and level 0;<br>\n",
    "    - Product 0.4*x has scale 2^80;<br>\n",
    "    - We rescaled it down to scale 2^80/P_2 and level 1;<br>\n",
    "    - The contant term 1 has scale 2^40 and is at level 2.<br>\n",
    "<br>\n",
    "Although the scales of all three terms are approximately 2^40, their exact<br>\n",
    "values are different, hence they cannot be added together."
   ]
  },
  {
   "cell_type": "code",
   "execution_count": null,
   "metadata": {},
   "outputs": [],
   "source": [
    "print(\"The exact scales of all three terms are different:\")\n",
    "print(\"    + Exact scale in PI*x^3: {0:0.10f}\".format(x3_encrypted.scale()))\n",
    "print(\"    + Exact scale in  0.4*x: {0:0.10f}\".format(x1_encrypted.scale()))\n",
    "print(\"    + Exact scale in      1: {0:0.10f}\".format(plain_coeff0.scale()))"
   ]
  },
  {
   "cell_type": "markdown",
   "metadata": {},
   "source": [
    "There are many ways to fix this problem. Since P_2 and P_1 are really close<br>\n",
    "to 2^40, we can simply \"lie\" to Microsoft SEAL and set the scales to be the<br>\n",
    "same. For example, changing the scale of PI*x^3 to 2^40 simply means that we<br>\n",
    "scale the value of PI*x^3 by 2^120/(P_2^2*P_1), which is very close to 1.<br>\n",
    "This should not result in any noticeable error.<br>\n",
    "<br>\n",
    "Another option would be to encode 1 with scale 2^80/P_2, do a multiply_plain<br>\n",
    "with 0.4*x, and finally rescale. In this case we would need to additionally<br>\n",
    "make sure to encode 1 with appropriate encryption parameters (parms_id).<br>\n",
    "<br>\n",
    "In this example we will use the first (simplest) approach and simply change<br>\n",
    "the scale of PI*x^3 and 0.4*x to 2^40."
   ]
  },
  {
   "cell_type": "code",
   "execution_count": null,
   "metadata": {},
   "outputs": [],
   "source": [
    "print(\"Normalize scales to 2^40.\")\n",
    "x3_encrypted.set_scale(2.0**40)\n",
    "x1_encrypted.set_scale(2.0**40)"
   ]
  },
  {
   "cell_type": "markdown",
   "metadata": {},
   "source": [
    "We still have a problem with mismatching encryption parameters. This is easy<br>\n",
    "to fix by using traditional modulus switching (no rescaling). CKKS supports<br>\n",
    "modulus switching just like the BFV scheme, allowing us to switch away parts<br>\n",
    "of the coefficient modulus when it is simply not needed."
   ]
  },
  {
   "cell_type": "code",
   "execution_count": null,
   "metadata": {},
   "outputs": [],
   "source": [
    "print(\"Normalize encryption parameters to the lowest level.\")\n",
    "last_parms_id = x3_encrypted.parms_id()\n",
    "evaluator.mod_switch_to_inplace(x1_encrypted, last_parms_id)\n",
    "evaluator.mod_switch_to_inplace(plain_coeff0, last_parms_id)"
   ]
  },
  {
   "cell_type": "markdown",
   "metadata": {},
   "source": [
    "All three ciphertexts are now compatible and can be added."
   ]
  },
  {
   "cell_type": "code",
   "execution_count": null,
   "metadata": {},
   "outputs": [],
   "source": [
    "print(\"Compute PI*x^3 + 0.4*x + 1.\")\n",
    "encrypted_result = Ciphertext()\n",
    "evaluator.add(x3_encrypted, x1_encrypted, encrypted_result)\n",
    "evaluator.add_plain_inplace(encrypted_result, plain_coeff0)"
   ]
  },
  {
   "cell_type": "markdown",
   "metadata": {},
   "source": [
    "First print the true result."
   ]
  },
  {
   "cell_type": "code",
   "execution_count": null,
   "metadata": {},
   "outputs": [],
   "source": [
    "plain_result = Plaintext() \n",
    "print(\"Decrypt and decode PI*x^3 + 0.4x + 1.\")\n",
    "print(\"    + Expected result:\")\n",
    "true_result = DoubleVector(list(map(lambda x: (3.14159265 * x * x + 0.4)* x + 1, input)))\n",
    "print_vector(true_result)"
   ]
  },
  {
   "cell_type": "markdown",
   "metadata": {},
   "source": [
    "Decrypt, decode, and print the result."
   ]
  },
  {
   "cell_type": "code",
   "execution_count": null,
   "metadata": {},
   "outputs": [],
   "source": [
    "decryptor.decrypt(encrypted_result, plain_result)\n",
    "result = DoubleVector()\n",
    "encoder.decode(plain_result, result)\n",
    "print(\"    + Computed result ...... Correct.\")\n",
    "print_vector(result)"
   ]
  },
  {
   "cell_type": "markdown",
   "metadata": {},
   "source": [
    "While we did not show any computations on complex numbers in these examples,<br>\n",
    "the CKKSEncoder would allow us to have done that just as easily. Additions<br>\n",
    "and multiplications of complex numbers behave just as one would expect."
   ]
  }
 ],
 "metadata": {
  "kernelspec": {
   "display_name": "Python 3",
   "language": "python",
   "name": "python3"
  },
  "language_info": {
   "codemirror_mode": {
    "name": "ipython",
    "version": 3
   },
   "file_extension": ".py",
   "mimetype": "text/x-python",
   "name": "python",
   "nbconvert_exporter": "python",
   "pygments_lexer": "ipython3",
   "version": "3.7.5"
  }
 },
 "nbformat": 4,
 "nbformat_minor": 2
}
