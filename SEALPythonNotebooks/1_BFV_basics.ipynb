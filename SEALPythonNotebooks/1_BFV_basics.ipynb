{
 "cells": [
  {
   "cell_type": "code",
   "execution_count": null,
   "metadata": {},
   "outputs": [],
   "source": [
    "import time\n",
    "import random\n",
    "from seal import EncryptionParameters, scheme_type, \\\n",
    "    SEALContext, print_parameters, KeyGenerator, \\\n",
    "    Encryptor, CoeffModulus, Evaluator, Decryptor, \\\n",
    "    Plaintext, Ciphertext"
   ]
  },
  {
   "cell_type": "code",
   "execution_count": null,
   "metadata": {},
   "outputs": [],
   "source": [
    "print(\"Example: BFV Basics\");"
   ]
  },
  {
   "cell_type": "markdown",
   "metadata": {},
   "source": [
    "In this example, we demonstrate performing simple computations (a polynomial<br>\n",
    "evaluation) on encrypted integers using the BFV encryption scheme.<br>\n",
    "<br>\n",
    "The first task is to set up an instance of the EncryptionParameters class.<br>\n",
    "It is critical to understand how the different parameters behave, how they<br>\n",
    "affect the encryption scheme, performance, and the security level. There are<br>\n",
    "three encryption parameters that are necessary to set:<br>\n",
    "<br>\n",
    "    - poly_modulus_degree (degree of polynomial modulus);<br>\n",
    "    - coeff_modulus ([ciphertext] coefficient modulus);<br>\n",
    "    - plain_modulus (plaintext modulus; only for the BFV scheme).<br>\n",
    "<br>\n",
    "The BFV scheme cannot perform arbitrary computations on encrypted data.<br>\n",
    "Instead, each ciphertext has a specific quantity called the `invariant noise<br>\n",
    "budget' -- or `noise budget' for short -- measured in bits. The noise budget<br>\n",
    "in a freshly encrypted ciphertext (initial noise budget) is determined by<br>\n",
    "the encryption parameters. Homomorphic operations consume the noise budget<br>\n",
    "at a rate also determined by the encryption parameters. In BFV the two basic<br>\n",
    "operations allowed on encrypted data are additions and multiplications, of<br>\n",
    "which additions can generally be thought of as being nearly free in terms of<br>\n",
    "noise budget consumption compared to multiplications. Since noise budget<br>\n",
    "consumption compounds in sequential multiplications, the most significant<br>\n",
    "factor in choosing appropriate encryption parameters is the multiplicative<br>\n",
    "depth of the arithmetic circuit that the user wants to evaluate on encrypted<br>\n",
    "data. Once the noise budget of a ciphertext reaches zero it becomes too<br>\n",
    "corrupted to be decrypted. Thus, it is essential to choose the parameters to<br>\n",
    "be large enough to support the desired computation; otherwise the result is<br>\n",
    "impossible to make sense of even with the secret key."
   ]
  },
  {
   "cell_type": "code",
   "execution_count": null,
   "metadata": {},
   "outputs": [],
   "source": [
    "parms = EncryptionParameters(scheme_type.BFV)"
   ]
  },
  {
   "cell_type": "markdown",
   "metadata": {},
   "source": [
    "The first parameter we set is the degree of the `polynomial modulus'. This<br>\n",
    "must be a positive power of 2, representing the degree of a power-of-two<br>\n",
    "cyclotomic polynomial; it is not necessary to understand what this means.<br>\n",
    "<br>\n",
    "Larger poly_modulus_degree makes ciphertext sizes larger and all operations<br>\n",
    "slower, but enables more complicated encrypted computations. Recommended<br>\n",
    "values are 1024, 2048, 4096, 8192, 16384, 32768, but it is also possible<br>\n",
    "to go beyond this range.<br>\n",
    "<br>\n",
    "In this example we use a relatively small polynomial modulus. Anything<br>\n",
    "smaller than this will enable only very restricted encrypted computations."
   ]
  },
  {
   "cell_type": "code",
   "execution_count": null,
   "metadata": {},
   "outputs": [],
   "source": [
    "poly_modulus_degree = 4096\n",
    "parms.set_poly_modulus_degree(poly_modulus_degree)"
   ]
  },
  {
   "cell_type": "markdown",
   "metadata": {},
   "source": [
    "Next we set the [ciphertext] `coefficient modulus' (coeff_modulus). This<br>\n",
    "parameter is a large integer, which is a product of distinct prime numbers,<br>\n",
    "each up to 60 bits in size. It is represented as a vector of these prime<br>\n",
    "numbers, each represented by an instance of the SmallModulus class. The<br>\n",
    "bit-length of coeff_modulus means the sum of the bit-lengths of its prime<br>\n",
    "factors.<br>\n",
    "<br>\n",
    "A larger coeff_modulus implies a larger noise budget, hence more encrypted<br>\n",
    "computation capabilities. However, an upper bound for the total bit-length<br>\n",
    "of the coeff_modulus is determined by the poly_modulus_degree, as follows:<br>\n",
    "<br>\n",
    "    +----------------------------------------------------+<br>\n",
    "    | poly_modulus_degree | max coeff_modulus bit-length |<br>\n",
    "    +---------------------+------------------------------+<br>\n",
    "    | 1024                | 27                           |<br>\n",
    "    | 2048                | 54                           |<br>\n",
    "    | 4096                | 109                          |<br>\n",
    "    | 8192                | 218                          |<br>\n",
    "    | 16384               | 438                          |<br>\n",
    "    | 32768               | 881                          |<br>\n",
    "    +---------------------+------------------------------+<br>\n",
    "<br>\n",
    "These numbers can also be found in native/src/seal/util/hestdparms.h encoded<br>\n",
    "in the function SEAL_HE_STD_PARMS_128_TC, and can also be obtained from the<br>\n",
    "function<br>\n",
    "<br>\n",
    "    CoeffModulus::MaxBitCount(poly_modulus_degree).<br>\n",
    "<br>\n",
    "For example, if poly_modulus_degree is 4096, the coeff_modulus could consist<br>\n",
    "of three 36-bit primes (108 bits).<br>\n",
    "<br>\n",
    "Microsoft SEAL comes with helper functions for selecting the coeff_modulus.<br>\n",
    "For new users the easiest way is to simply use<br>\n",
    "<br>\n",
    "    CoeffModulus::BFVDefault(poly_modulus_degree),<br>\n",
    "<br>\n",
    "which returns std::vector<SmallModulus> consisting of a generally good choice<br>\n",
    "for the given poly_modulus_degree."
   ]
  },
  {
   "cell_type": "code",
   "execution_count": null,
   "metadata": {},
   "outputs": [],
   "source": [
    "parms.set_coeff_modulus(CoeffModulus.BFVDefault(poly_modulus_degree))"
   ]
  },
  {
   "cell_type": "markdown",
   "metadata": {},
   "source": [
    "The plaintext modulus can be any positive integer, even though here we take<br>\n",
    "it to be a power of two. In fact, in many cases one might instead want it<br>\n",
    "to be a prime number; we will see this in later examples. The plaintext<br>\n",
    "modulus determines the size of the plaintext data type and the consumption<br>\n",
    "of noise budget in multiplications. Thus, it is essential to try to keep the<br>\n",
    "plaintext data type as small as possible for best performance. The noise<br>\n",
    "budget in a freshly encrypted ciphertext is<br>\n",
    "<br>\n",
    "    ~ log2(coeff_modulus/plain_modulus) (bits)<br>\n",
    "<br>\n",
    "and the noise budget consumption in a homomorphic multiplication is of the<br>\n",
    "form log2(plain_modulus) + (other terms). <br>\n",
    "<br>\n",
    "The plaintext modulus is specific to the BFV scheme, and cannot be set when<br>\n",
    "using the CKKS scheme."
   ]
  },
  {
   "cell_type": "code",
   "execution_count": null,
   "metadata": {},
   "outputs": [],
   "source": [
    "parms.set_plain_modulus(1024)"
   ]
  },
  {
   "cell_type": "markdown",
   "metadata": {},
   "source": [
    "Now that all parameters are set, we are ready to construct a SEALContext<br>\n",
    "object. This is a heavy class that checks the validity and properties of the<br>\n",
    "parameters we just set."
   ]
  },
  {
   "cell_type": "code",
   "execution_count": null,
   "metadata": {},
   "outputs": [],
   "source": [
    "context = SEALContext.Create(parms)"
   ]
  },
  {
   "cell_type": "markdown",
   "metadata": {},
   "source": [
    "Print the parameters that we have chosen."
   ]
  },
  {
   "cell_type": "code",
   "execution_count": null,
   "metadata": {},
   "outputs": [],
   "source": [
    "print(\"Set encryption parameters and print\")\n",
    "print_parameters(context) # TODO: FIX\n",
    "print(\"~~~~~~ A naive way to calculate 4(x^2+1)(x+1)^2. ~~~~~~\")"
   ]
  },
  {
   "cell_type": "markdown",
   "metadata": {},
   "source": [
    "The encryption schemes in Microsoft SEAL are public key encryption schemes.<br>\n",
    "For users unfamiliar with this terminology, a public key encryption scheme<br>\n",
    "has a separate public key for encrypting data, and a separate secret key for<br>\n",
    "decrypting data. This way multiple parties can encrypt data using the same<br>\n",
    "shared public key, but only the proper recipient of the data can decrypt it<br>\n",
    "with the secret key.<br>\n",
    "<br>\n",
    "We are now ready to generate the secret and public keys. For this purpose<br>\n",
    "we need an instance of the KeyGenerator class. Constructing a KeyGenerator<br>\n",
    "automatically generates the public and secret key, which can immediately be<br>\n",
    "read to local variables."
   ]
  },
  {
   "cell_type": "code",
   "execution_count": null,
   "metadata": {},
   "outputs": [],
   "source": [
    "keygen = KeyGenerator(context)\n",
    "public_key = keygen.public_key()\n",
    "secret_key = keygen.secret_key()"
   ]
  },
  {
   "cell_type": "markdown",
   "metadata": {},
   "source": [
    "To be able to encrypt we need to construct an instance of Encryptor. Note<br>\n",
    "that the Encryptor only requires the public key, as expected."
   ]
  },
  {
   "cell_type": "code",
   "execution_count": null,
   "metadata": {},
   "outputs": [],
   "source": [
    "encryptor = Encryptor(context, public_key)"
   ]
  },
  {
   "cell_type": "markdown",
   "metadata": {},
   "source": [
    "Computations on the ciphertexts are performed with the Evaluator class. In<br>\n",
    "a real use-case the Evaluator would not be constructed by the same party<br>\n",
    "that holds the secret key."
   ]
  },
  {
   "cell_type": "code",
   "execution_count": null,
   "metadata": {},
   "outputs": [],
   "source": [
    "evaluator = Evaluator(context)"
   ]
  },
  {
   "cell_type": "markdown",
   "metadata": {},
   "source": [
    "We will of course want to decrypt our results to verify that everything worked,<br>\n",
    "so we need to also construct an instance of Decryptor. Note that the Decryptor<br>\n",
    "requires the secret key."
   ]
  },
  {
   "cell_type": "code",
   "execution_count": null,
   "metadata": {},
   "outputs": [],
   "source": [
    "decryptor = Decryptor(context, secret_key)"
   ]
  },
  {
   "cell_type": "markdown",
   "metadata": {},
   "source": [
    "As an example, we evaluate the degree 4 polynomial<br>\n",
    "<br>\n",
    "    4x^4 + 8x^3 + 8x^2 + 8x + 4<br>\n",
    "<br>\n",
    "over an encrypted x = 6. The coefficients of the polynomial can be considered<br>\n",
    "as plaintext inputs, as we will see below. The computation is done modulo the<br>\n",
    "plain_modulus 1024.<br>\n",
    " <br>\n",
    "While this examples is simple and easy to understand, it does not have much<br>\n",
    "practical value. In later examples we will demonstrate how to compute more<br>\n",
    "efficiently on encrypted integers and real or complex numbers.<br>\n",
    "<br>\n",
    "Plaintexts in the BFV scheme are polynomials of degree less than the degree<br>\n",
    "of the polynomial modulus, and coefficients integers modulo the plaintext<br>\n",
    "modulus. For readers with background in ring theory, the plaintext space is<br>\n",
    "the polynomial quotient ring Z_T[X]/(X^N + 1), where N is poly_modulus_degree<br>\n",
    "and T is plain_modulus.<br>\n",
    "<br>\n",
    "To get started, we create a plaintext containing the constant 6. For the<br>\n",
    "plaintext element we use a constructor that takes the desired polynomial as<br>\n",
    "a string with coefficients represented as hexadecimal numbers."
   ]
  },
  {
   "cell_type": "code",
   "execution_count": null,
   "metadata": {},
   "outputs": [],
   "source": [
    "x = 6\n",
    "x_plain = Plaintext(str(x))\n",
    "print(\"Express x = {} as a plaintext polynomial 0x{}.\".format(x, x_plain.to_string()))"
   ]
  },
  {
   "cell_type": "markdown",
   "metadata": {},
   "source": [
    "We then encrypt the plaintext, producing a ciphertext."
   ]
  },
  {
   "cell_type": "code",
   "execution_count": null,
   "metadata": {},
   "outputs": [],
   "source": [
    "x_encrypted = Ciphertext()\n",
    "print(\"Encrypt x_plain to x_encrypted.\")\n",
    "encryptor.encrypt(x_plain, x_encrypted)"
   ]
  },
  {
   "cell_type": "markdown",
   "metadata": {},
   "source": [
    "In Microsoft SEAL, a valid ciphertext consists of two or more polynomials<br>\n",
    "whose coefficients are integers modulo the product of the primes in the<br>\n",
    "coeff_modulus. The number of polynomials in a ciphertext is called its `size'<br>\n",
    "and is given by Ciphertext::size(). A freshly encrypted ciphertext always<br>\n",
    "has size 2."
   ]
  },
  {
   "cell_type": "code",
   "execution_count": null,
   "metadata": {},
   "outputs": [],
   "source": [
    "print(\"    + size of freshly encrypted x: {}\".format(x_encrypted.size()))"
   ]
  },
  {
   "cell_type": "markdown",
   "metadata": {},
   "source": [
    "There is plenty of noise budget left in this freshly encrypted ciphertext."
   ]
  },
  {
   "cell_type": "code",
   "execution_count": null,
   "metadata": {},
   "outputs": [],
   "source": [
    "print(\"    + noise budget in freshly encrypted x: {} bits\".format(\n",
    "      decryptor.invariant_noise_budget(x_encrypted)))"
   ]
  },
  {
   "cell_type": "markdown",
   "metadata": {},
   "source": [
    "We decrypt the ciphertext and print the resulting plaintext in order to<br>\n",
    "demonstrate correctness of the encryption."
   ]
  },
  {
   "cell_type": "code",
   "execution_count": null,
   "metadata": {},
   "outputs": [],
   "source": [
    "x_decrypted = Plaintext()\n",
    "decryptor.decrypt(x_encrypted, x_decrypted)\n",
    "print(\"    + decryption of x_encrypted: 0x{} ...... Correct.\".format(x_decrypted.to_string()))"
   ]
  },
  {
   "cell_type": "markdown",
   "metadata": {},
   "source": [
    "When using Microsoft SEAL, it is typically advantageous to compute in a way<br>\n",
    "that minimizes the longest chain of sequential multiplications. In other<br>\n",
    "words, encrypted computations are best evaluated in a way that minimizes<br>\n",
    "the multiplicative depth of the computation, because the total noise budget<br>\n",
    "consumption is proportional to the multiplicative depth. For example, for<br>\n",
    "our example computation it is advantageous to factorize the polynomial as<br>\n",
    "<br>\n",
    "    4x^4 + 8x^3 + 8x^2 + 8x + 4 = 4(x + 1)^2 * (x^2 + 1)<br>\n",
    "<br>\n",
    "to obtain a simple depth 2 representation. Thus, we compute (x + 1)^2 and<br>\n",
    "(x^2 + 1) separately, before multiplying them, and multiplying by 4.<br>\n",
    "<br>\n",
    "First, we compute x^2 and add a plaintext \"1\". We can clearly see from the<br>\n",
    "print-out that multiplication has consumed a lot of noise budget. The user<br>\n",
    "can vary the plain_modulus parameter to see its effect on the rate of noise<br>\n",
    "budget consumption."
   ]
  },
  {
   "cell_type": "code",
   "execution_count": null,
   "metadata": {},
   "outputs": [],
   "source": [
    "print(\"Compute x_sq_plus_one (x^2+1).\")\n",
    "x_sq_plus_one = Ciphertext()\n",
    "evaluator.square(x_encrypted, x_sq_plus_one);\n",
    "plain_one = Plaintext(\"1\");\n",
    "evaluator.add_plain_inplace(x_sq_plus_one, plain_one)"
   ]
  },
  {
   "cell_type": "markdown",
   "metadata": {},
   "source": [
    "Encrypted multiplication results in the output ciphertext growing in size.<br>\n",
    "More precisely, if the input ciphertexts have size M and N, then the output<br>\n",
    "ciphertext after homomorphic multiplication will have size M+N-1. In this<br>\n",
    "case we perform a squaring, and observe both size growth and noise budget<br>\n",
    "consumption."
   ]
  },
  {
   "cell_type": "code",
   "execution_count": null,
   "metadata": {},
   "outputs": [],
   "source": [
    "print(\"    + size of x_sq_plus_one: {}\".format(x_sq_plus_one.size()))\n",
    "print(\"    + noise budget in x_sq_plus_one: {} bits\".format(\n",
    "    decryptor.invariant_noise_budget(x_sq_plus_one)))"
   ]
  },
  {
   "cell_type": "markdown",
   "metadata": {},
   "source": [
    "Even though the size has grown, decryption works as usual as long as noise<br>\n",
    "budget has not reached 0."
   ]
  },
  {
   "cell_type": "code",
   "execution_count": null,
   "metadata": {},
   "outputs": [],
   "source": [
    "decrypted_result = Plaintext()\n",
    "decryptor.decrypt(x_sq_plus_one, decrypted_result);\n",
    "print(\"    + decryption of x_sq_plus_one: 0x{} ...... Correct.\".format(decrypted_result.to_string()))"
   ]
  },
  {
   "cell_type": "markdown",
   "metadata": {},
   "source": [
    "Next, we compute (x + 1)^2."
   ]
  },
  {
   "cell_type": "code",
   "execution_count": null,
   "metadata": {},
   "outputs": [],
   "source": [
    "print(\"Compute x_plus_one_sq ((x+1)^2).\")\n",
    "x_plus_one_sq = Ciphertext()\n",
    "evaluator.add_plain(x_encrypted, plain_one, x_plus_one_sq);\n",
    "evaluator.square_inplace(x_plus_one_sq);\n",
    "print(\"    + size of x_plus_one_sq: {}\".format(x_plus_one_sq.size()))\n",
    "print(\"    + noise budget in x_plus_one_sq: {} bits\".format(\n",
    "    decryptor.invariant_noise_budget(x_plus_one_sq)))\n",
    "decryptor.decrypt(x_plus_one_sq, decrypted_result)\n",
    "print(\"    + decryption of x_plus_one_sq: 0x{} ...... Correct.\".format(decrypted_result.to_string()))"
   ]
  },
  {
   "cell_type": "markdown",
   "metadata": {},
   "source": [
    "Finally, we multiply (x^2 + 1) * (x + 1)^2 * 4."
   ]
  },
  {
   "cell_type": "code",
   "execution_count": null,
   "metadata": {},
   "outputs": [],
   "source": [
    "print(\"Compute encrypted_result (4(x^2+1)(x+1)^2).\")\n",
    "encrypted_result = Ciphertext()\n",
    "plain_four = Plaintext(\"4\")\n",
    "evaluator.multiply_plain_inplace(x_sq_plus_one, plain_four)\n",
    "evaluator.multiply(x_sq_plus_one, x_plus_one_sq, encrypted_result)\n",
    "print(\"    + size of encrypted_result: {}\".format(encrypted_result.size()))\n",
    "print(\"    + noise budget in encrypted_result: {} bits\".format(\n",
    "    decryptor.invariant_noise_budget(encrypted_result)))\n",
    "print(\"NOTE: Decryption can be incorrect if noise budget is zero.\")\n",
    "print(\"~~~~~~ A better way to calculate 4(x^2+1)(x+1)^2. ~~~~~~\")"
   ]
  },
  {
   "cell_type": "markdown",
   "metadata": {},
   "source": [
    "Noise budget has reached 0, which means that decryption cannot be expected<br>\n",
    "to give the correct result. This is because both ciphertexts x_sq_plus_one<br>\n",
    "and x_plus_one_sq consist of 3 polynomials due to the previous squaring<br>\n",
    "operations, and homomorphic operations on large ciphertexts consume much more<br>\n",
    "noise budget than computations on small ciphertexts. Computing on smaller<br>\n",
    "ciphertexts is also computationally significantly cheaper."
   ]
  },
  {
   "cell_type": "markdown",
   "metadata": {},
   "source": [
    "`Relinearization' is an operation that reduces the size of a ciphertext after<br>\n",
    "multiplication back to the initial size, 2. Thus, relinearizing one or both<br>\n",
    "input ciphertexts before the next multiplication can have a huge positive<br>\n",
    "impact on both noise growth and performance, even though relinearization has<br>\n",
    "a significant computational cost itself. It is only possible to relinearize<br>\n",
    "size 3 ciphertexts down to size 2, so often the user would want to relinearize<br>\n",
    "after each multiplication to keep the ciphertext sizes at 2."
   ]
  },
  {
   "cell_type": "markdown",
   "metadata": {},
   "source": [
    "Relinearization requires special `relinearization keys', which can be thought<br>\n",
    "of as a kind of public key. Relinearization keys can easily be created with<br>\n",
    "the KeyGenerator."
   ]
  },
  {
   "cell_type": "markdown",
   "metadata": {},
   "source": [
    "Relinearization is used similarly in both the BFV and the CKKS schemes, but<br>\n",
    "in this example we continue using BFV. We repeat our computation from before,<br>\n",
    "but this time relinearize after every multiplication."
   ]
  },
  {
   "cell_type": "markdown",
   "metadata": {},
   "source": [
    "We use KeyGenerator::relin_keys() to create relinearization keys."
   ]
  },
  {
   "cell_type": "code",
   "execution_count": null,
   "metadata": {},
   "outputs": [],
   "source": [
    "print(\"Generate relinearization keys.\")\n",
    "relin_keys = keygen.relin_keys();"
   ]
  },
  {
   "cell_type": "markdown",
   "metadata": {},
   "source": [
    "We now repeat the computation relinearizing after each multiplication."
   ]
  },
  {
   "cell_type": "code",
   "execution_count": null,
   "metadata": {},
   "outputs": [],
   "source": [
    "print(\"Compute and relinearize x_squared (x^2),\")\n",
    "print(\"then compute x_sq_plus_one (x^2+1)\")\n",
    "x_squared = Ciphertext()\n",
    "evaluator.square(x_encrypted, x_squared);\n",
    "print(\"    + size of x_squared: {}\" .format(x_squared.size()))\n",
    "evaluator.relinearize_inplace(x_squared, relin_keys);\n",
    "print(\"    + size of x_squared (after relinearization): {}\".format(\n",
    "    x_squared.size()))\n",
    "evaluator.add_plain(x_squared, plain_one, x_sq_plus_one)\n",
    "print(\"    + noise budget in x_sq_plus_one: {} bits\".format(\n",
    "    decryptor.invariant_noise_budget(x_sq_plus_one))) \n",
    "decryptor.decrypt(x_sq_plus_one, decrypted_result)\n",
    "print(\"    + decryption of x_sq_plus_one: 0x{}  ...... Correct.\".format(decrypted_result.to_string()))"
   ]
  },
  {
   "cell_type": "code",
   "execution_count": null,
   "metadata": {},
   "outputs": [],
   "source": [
    "x_plus_one = Ciphertext()\n",
    "print(\"Compute x_plus_one (x+1),\")\n",
    "print(\"then compute and relinearize x_plus_one_sq ((x+1)^2).\")\n",
    "evaluator.add_plain(x_encrypted, plain_one, x_plus_one)\n",
    "evaluator.square(x_plus_one, x_plus_one_sq)\n",
    "print(\"    + size of x_plus_one_sq: {}\".format(x_plus_one_sq.size()))\n",
    "evaluator.relinearize_inplace(x_plus_one_sq, relin_keys)\n",
    "print(\"    + noise budget in x_plus_one_sq: {} bits\".format(\n",
    "    decryptor.invariant_noise_budget(x_plus_one_sq)) )\n",
    "decryptor.decrypt(x_plus_one_sq, decrypted_result)\n",
    "print(\"    + decryption of x_plus_one_sq: 0x{}  ...... Correct.\".format(decrypted_result.to_string()))"
   ]
  },
  {
   "cell_type": "code",
   "execution_count": null,
   "metadata": {},
   "outputs": [],
   "source": [
    "print(\"Compute and relinearize encrypted_result (4(x^2+1)(x+1)^2).\")\n",
    "evaluator.multiply_plain_inplace(x_sq_plus_one, plain_four)\n",
    "evaluator.multiply(x_sq_plus_one, x_plus_one_sq, encrypted_result)\n",
    "print(\"    + size of encrypted_result: {}\".format(encrypted_result.size()))\n",
    "evaluator.relinearize_inplace(encrypted_result, relin_keys)\n",
    "print(\"    + size of encrypted_result (after relinearization): {}\".format(\n",
    "    encrypted_result.size()))\n",
    "print(\"    + noise budget in encrypted_result: {} bits\".format(\n",
    "    decryptor.invariant_noise_budget(encrypted_result)))"
   ]
  },
  {
   "cell_type": "code",
   "execution_count": null,
   "metadata": {},
   "outputs": [],
   "source": [
    "print(\"NOTE: Notice the increase in remaining noise budget.\")"
   ]
  },
  {
   "cell_type": "markdown",
   "metadata": {},
   "source": [
    "Relinearization clearly improved our noise consumption. We have still plenty<br>\n",
    "of noise budget left, so we can expect the correct answer when decrypting."
   ]
  },
  {
   "cell_type": "code",
   "execution_count": null,
   "metadata": {},
   "outputs": [],
   "source": [
    "print(\"Decrypt encrypted_result (4(x^2+1)(x+1)^2).\")\n",
    "decryptor.decrypt(encrypted_result, decrypted_result)\n",
    "print(\"    + decryption of 4(x^2+1)(x+1)^2 = 0x{}  ...... Correct.\".format(\n",
    "    decrypted_result.to_string()))"
   ]
  },
  {
   "cell_type": "markdown",
   "metadata": {},
   "source": [
    "For x=6, 4(x^2+1)(x+1)^2 = 7252. Since the plaintext modulus is set to 1024,<br>\n",
    "this result is computed in integers modulo 1024. Therefore the expected output<br>\n",
    "should be 7252 % 1024 == 84, or 0x54 in hexadecimal."
   ]
  }
 ],
 "metadata": {
  "kernelspec": {
   "display_name": "Python 3",
   "language": "python",
   "name": "python3"
  },
  "language_info": {
   "codemirror_mode": {
    "name": "ipython",
    "version": 3
   },
   "file_extension": ".py",
   "mimetype": "text/x-python",
   "name": "python",
   "nbconvert_exporter": "python",
   "pygments_lexer": "ipython3",
   "version": "3.7.5"
  }
 },
 "nbformat": 4,
 "nbformat_minor": 2
}
